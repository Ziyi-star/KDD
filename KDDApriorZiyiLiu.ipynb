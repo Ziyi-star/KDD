{
 "cells": [
  {
   "cell_type": "markdown",
   "metadata": {},
   "source": [
    "# Apriori-Algorithmus\n",
    "Implementieren Sie den Apriori-Algorithmus zum Finden häufiger Item Sets bei einer gegebenen Menge von Transaktionen. Nutzen Sie das gegebene Grundgerüst und beachten Sie folgende Anforderungen:\n",
    "- Hinweis: Achten Sie besonders bei der Apriori Kandidatengenerierung darauf, dass Sie den Support möglichst effizient und nur von möglichst wenigen Itemsets berechnen.\n",
    "- Die Ausgabe des Programms ist eine Liste aller Frequent Item Sets zusammen mit ihrem jeweiligen Support. Diese sollen in einer sinnvollen Datenstruktur zurückgegeben werden.\n",
    "- Sie können Ihr Programm zum Beispiel auf dem Datensatz warenkorb.csv testen.\n",
    "- Ihre Implementierung können Sie bis zum 09.01.2023 23:59 im Moodle abgeben.\n",
    "- Sie dürfen die externen Pakete collecions und numpy verwenden. Aus dem Paket collections sollte vor allen Dingen die Klasse *Counter* für Sie hilfreich sein.\n",
    "\n",
    "## Zusatzaufgabe für 6 ECTS:\n",
    "**Hinweis**: Bearbeiten Sie diese Aufgaben nur, falls Sie am Praktikum für 6 ECTS-Punkte teilnehmen, jedoch nicht, falls Sie am Praktikum für 3 ECTS-Punkte teilnehmen.\n",
    "### Anti-Monotone Constraints\n",
    "- In der Vorlesung haben Sie anti-monotone Constraints zur Einschränkung der relevanten Itemsets kennengelernt.\n",
    "- Implementieren Sie eine Möglichkeit, mittels des Parameters *prices* ein Dictionary mitzugeben, welches die Preise der einzelnen Items mitgibt.\n",
    "- Durch den Parameter *max_price* soll dann eine mögliche Preisgrenze gegeben werden. Das heißt, es sollen nur frequent Itemsets zurückgegeben werden, welche nicht mehr als *max_price* kosten. Falls *max_price* den Wert None hat, soll der Constraint des maximalen Preises nicht genutzt werden.\n",
    "- Nutzen Sie die Anti-Monotonie des Constraints aus, um die Generierung unnötiger Kandidaten zu vermeiden. Es ist NICHT ausreichend, alle frequent Itemsetzs erst zu berechnen um dann ganz zum Schluss die \"zu teuren\" zu entfernen!\n",
    "\n",
    "### Konfidenz und Interessantheit\n",
    "- Der Apriorie Algorithmus liefert Ihnen die Frequent Itemsets und ihren Support. Berechnen Sie aus diesen die Assoziationsregeln, welche eine vorgegebene Konfidenz überschreiten.\n",
    "- Implementieren Sie die Funktion *interestingness* so, dass sie die Assozationsregeln, welche eine gewisse Konfidenz überschreiten und deren Interessantheit zurückgeben!\n",
    "\n",
    "## Erinnerung\n",
    "Bitte vergessen Sie nicht, sich offiziell im Praktikum einzuschreiben! Sollten Sie Fragen dazu haben, wenden Sie sich bitte per E-Mail an stubbemann@cs.uni-kassel.de."
   ]
  },
  {
   "cell_type": "markdown",
   "metadata": {},
   "source": [
    "# Daten laden\n",
    "Diesen Teil bitte nicht verändern."
   ]
  },
  {
   "cell_type": "code",
   "execution_count": 1,
   "metadata": {},
   "outputs": [
    {
     "data": {
      "text/plain": [
       "[['Bier', 'Chips', 'Windeln'],\n",
       " ['Chips', 'TV-Zeitschrift'],\n",
       " ['Bier', 'Chips', 'TV-Zeitschrift'],\n",
       " ['Bier', 'Windeln', 'Zahnpasta'],\n",
       " ['Chips', 'Zahnpasta'],\n",
       " ['Bier', 'Chips', 'TV-Zeitschrift'],\n",
       " ['Bier', 'Windeln'],\n",
       " ['Chips', 'TV-Zeitschrift']]"
      ]
     },
     "execution_count": 1,
     "metadata": {},
     "output_type": "execute_result"
    }
   ],
   "source": [
    "with open('warenkorb.csv') as f:\n",
    "    data = []\n",
    "    for line in f.readlines():\n",
    "        items = [item.strip() for item in line.split(',')]\n",
    "        items.sort()\n",
    "        data.append(items)\n",
    "data"
   ]
  },
  {
   "cell_type": "code",
   "execution_count": 2,
   "metadata": {},
   "outputs": [],
   "source": [
    "prices = {\"Chips\": 2.5,\n",
    "          \"Bier\": 5,\n",
    "          \"TV-Zeitschrift\": 2,\n",
    "          \"Windeln\": 1.5,\n",
    "          \"Zahnpasta\": 2}"
   ]
  },
  {
   "cell_type": "markdown",
   "metadata": {},
   "source": [
    "# Implementierung\n",
    "Implementieren Sie in diesem Teil Ihre Lösung. Die gegebenen Datenstrukturen und Methoden können Sie als Hilfestellung (insbesondere für eine effiziente Lösung) benutzen, müssen Sie aber nicht. Nur die Apriori-Methode sollte so funktionieren wie  gegeben. Sie können natürlich weitere Methoden hinzufügen."
   ]
  },
  {
   "cell_type": "code",
   "execution_count": 4,
   "metadata": {},
   "outputs": [
    {
     "name": "stdout",
     "output_type": "stream",
     "text": [
      "{Chips Bier: 0, Chips TV-Zeitschrift: 0, Chips Windeln: 0, Chips Zahnpasta: 0, Bier TV-Zeitschrift: 0, Bier Windeln: 0, Bier Zahnpasta: 0, TV-Zeitschrift Windeln: 0, TV-Zeitschrift Zahnpasta: 0, Windeln Zahnpasta: 0}\n",
      "{Chips Bier: 0, Chips TV-Zeitschrift: 0, Chips Windeln: 3, Chips Zahnpasta: 0, Bier TV-Zeitschrift: 0, Bier Windeln: 0, Bier Zahnpasta: 0, TV-Zeitschrift Windeln: 0, TV-Zeitschrift Zahnpasta: 0, Windeln Zahnpasta: 0}\n",
      "{Chips Bier: 0, Chips TV-Zeitschrift: 1, Chips Windeln: 3, Chips Zahnpasta: 0, Bier TV-Zeitschrift: 0, Bier Windeln: 0, Bier Zahnpasta: 0, TV-Zeitschrift Windeln: 0, TV-Zeitschrift Zahnpasta: 0, Windeln Zahnpasta: 0}\n",
      "{Chips Bier: 0, Chips TV-Zeitschrift: 4, Chips Windeln: 3, Chips Zahnpasta: 0, Bier TV-Zeitschrift: 0, Bier Windeln: 0, Bier Zahnpasta: 0, TV-Zeitschrift Windeln: 0, TV-Zeitschrift Zahnpasta: 0, Windeln Zahnpasta: 0}\n",
      "{Chips Bier: 0, Chips TV-Zeitschrift: 4, Chips Windeln: 3, Chips Zahnpasta: 0, Bier TV-Zeitschrift: 0, Bier Windeln: 0, Bier Zahnpasta: 0, TV-Zeitschrift Windeln: 0, TV-Zeitschrift Zahnpasta: 0, Windeln Zahnpasta: 3}\n",
      "{Chips Bier: 0, Chips TV-Zeitschrift: 4, Chips Windeln: 3, Chips Zahnpasta: 1, Bier TV-Zeitschrift: 0, Bier Windeln: 0, Bier Zahnpasta: 0, TV-Zeitschrift Windeln: 0, TV-Zeitschrift Zahnpasta: 0, Windeln Zahnpasta: 3}\n",
      "{Chips Bier: 0, Chips TV-Zeitschrift: 7, Chips Windeln: 3, Chips Zahnpasta: 1, Bier TV-Zeitschrift: 0, Bier Windeln: 0, Bier Zahnpasta: 0, TV-Zeitschrift Windeln: 0, TV-Zeitschrift Zahnpasta: 0, Windeln Zahnpasta: 3}\n",
      "{Chips Bier: 0, Chips TV-Zeitschrift: 7, Chips Windeln: 3, Chips Zahnpasta: 1, Bier TV-Zeitschrift: 0, Bier Windeln: 1, Bier Zahnpasta: 0, TV-Zeitschrift Windeln: 0, TV-Zeitschrift Zahnpasta: 0, Windeln Zahnpasta: 3}\n",
      "{Chips Bier: 0, Chips TV-Zeitschrift: 8, Chips Windeln: 3, Chips Zahnpasta: 1, Bier TV-Zeitschrift: 0, Bier Windeln: 1, Bier Zahnpasta: 0, TV-Zeitschrift Windeln: 0, TV-Zeitschrift Zahnpasta: 0, Windeln Zahnpasta: 3}\n"
     ]
    },
    {
     "data": {
      "text/plain": [
       "{Chips: 0.75,\n",
       " Bier: 0.625,\n",
       " TV-Zeitschrift: 0.5,\n",
       " Windeln: 0.375,\n",
       " Zahnpasta: 0.25}"
      ]
     },
     "execution_count": 4,
     "metadata": {},
     "output_type": "execute_result"
    }
   ],
   "source": [
    "from collections import Counter\n",
    "import numpy as np\n",
    "\n",
    "def item_count(transactions):\n",
    "    c = Counter([item for t in transactions for item in t])\n",
    "    return c.most_common()\n",
    "\n",
    "def apriori(transactions,\n",
    "            prices=prices,\n",
    "            max_price=None,\n",
    "            minsup=0.01):\n",
    "    # The parameters prices and max_price are just needed for 6ECTS!\n",
    "    l = {}\n",
    "    #1 Element Itemsets aus Transaktions\n",
    "    l1 = item_count(transactions)\n",
    "    dct = dict((Itemset(x),y/len(transactions)) for x, y in l1 if y/len(transactions) >= minsup)        \n",
    "    l.update(dct)\n",
    "    k = 2 \n",
    "    currentList = [key for key in dct.keys()]\n",
    "    #print(currentList)\n",
    "    dct.clear()\n",
    "    \n",
    "    candidate = aprioriKandidatenGenerierung(currentList,minsup,k)\n",
    "#     print(candidate)\n",
    "    dct = returnItemsWithMinSupport(transactions,minsup,k,candidate)\n",
    "#     print(dct)\n",
    "     \n",
    "#     while len(currentList)!= 0:\n",
    "#         candidate = aprioriKandidatenGenerierung(currentList,minsup,k)\n",
    "#         #für jede Transaktion Kandidate überprüfen und Zähler hochsetzen\n",
    "#         dct = returnItemsWithMinSupport(transactions,minsup,k,candidate)\n",
    "#         l.update(dct)\n",
    "#         currentList.clear()\n",
    "#         currentList = [key for key in dct.keys()]\n",
    "#         k += 1\n",
    "    \n",
    "    return l\n",
    "\n",
    "def aprioriKandidatenGenerierung(currentList,minsup,k):\n",
    "    candidate = []\n",
    "    if k == 2:\n",
    "        lenSet = len(currentList)\n",
    "        for i in range(lenSet):\n",
    "            j = i + 1\n",
    "            while j != lenSet:\n",
    "                candidateTmp = Itemset(currentList[i].items + ' ' + currentList[j].items)\n",
    "                candidate.append(candidateTmp)\n",
    "                j +=1\n",
    "    \n",
    "    return candidate\n",
    "            \n",
    "\n",
    "def returnItemsWithMinSupport(transactions,minsup,k,candidate):\n",
    "    # keys in dictionary basteln und values mit 0 initialisieren\n",
    "    dct = {item: 0 for item in candidate}\n",
    "    print(dct)\n",
    "    #jede Element nach k basteln dann  dann Zähler hochzählen\n",
    "    #kTmp = k - 1\n",
    "        \n",
    "    for transaction in transactions: \n",
    "#         print(transaction)\n",
    "        lenTransaction = len(transaction)\n",
    "        #Element zu vergleichen basteln mit k Länge\n",
    "        tmpCompareTransactionList = []\n",
    "        for i in range(lenTransaction):\n",
    "            j = i + 1\n",
    "            while j != lenTransaction:\n",
    "                tmpCompare = transaction[i] + ' ' + transaction[j]\n",
    "#                 print(tmpCompare)\n",
    "                j +=1\n",
    "                tmpCompareTransactionList.append(tmpCompare)\n",
    "#         print(tmpCompareTransactionList)\n",
    "        #mit dictionaryskey vergleichen\n",
    "        for item in tmpCompareTransactionList:\n",
    "            if dct[Itemset(tmpCompare)] != None:\n",
    "                dct[Itemset(tmpCompare)] += 1 \n",
    "        print(dct)\n",
    "    \n",
    "    return dct\n",
    "        \n",
    "def interestingness(l, min_conf):\n",
    "    \"\"\"\n",
    "    This function is only needed for 6ECTS!\n",
    "    The list l contains all frequent itemsets and their support.\n",
    "    Compute fom all frequent Itemsets X and all their subsets A the interestingness of the rule\n",
    "    A -> X\\A if this rule has at least the confidence min_conf.\n",
    "    Returns a list of tuples where each tuple has the form (A, X\\A , interstingness of A -> X\\A)\n",
    "    \"\"\"\n",
    "    # TODO\n",
    "    pass\n",
    "\n",
    "\n",
    "class Itemset():\n",
    "    \"\"\" A hashable itemset that can be used as a key in dictionaries or as an element in sets.\n",
    "    You can change this class how ever you like. \"\"\"\n",
    "    \n",
    "    def __init__(self, items):\n",
    "        self.items = items\n",
    "    \n",
    "    def __str__(self):\n",
    "        return str(self.items)\n",
    "    \n",
    "    def __repr__(self):\n",
    "        return str(self)\n",
    "    \n",
    "    def __eq__(self, other):\n",
    "        return len(self.items) == len(other.items) and set(self.items).issubset(other.items)\n",
    "    \n",
    "    def __hash__(self):\n",
    "        return hash(str(self))\n",
    "    \n",
    "#     def __add__(self, other):\n",
    "#         newItem = self.items + other.items\n",
    "#         return self(newItem)\n",
    "    \n",
    "    \n",
    "# Calculate frequent itemsets for the given data-set and print the result.\n",
    "l = apriori(data, minsup=0.1)\n",
    "l"
   ]
  },
  {
   "cell_type": "code",
   "execution_count": null,
   "metadata": {},
   "outputs": [],
   "source": []
  },
  {
   "cell_type": "markdown",
   "metadata": {},
   "source": [
    "## Tests für die 6ECTS Aufgaben\n",
    "Löschen Sie die folgenden Zellen, wenn Sie nur 3ECTS benötigen!"
   ]
  },
  {
   "cell_type": "code",
   "execution_count": null,
   "metadata": {},
   "outputs": [],
   "source": [
    "l = apriori(data, minsup=0.2, max_price=7)\n",
    "l"
   ]
  },
  {
   "cell_type": "code",
   "execution_count": null,
   "metadata": {},
   "outputs": [],
   "source": [
    "l = apriori(data, minsup=0.01)\n",
    "i = interestingness(l, min_conf=0.3)\n",
    "i"
   ]
  },
  {
   "cell_type": "code",
   "execution_count": 5,
   "metadata": {},
   "outputs": [
    {
     "data": {
      "text/html": [
       "<style>.container { width:85% !important; }</style>"
      ],
      "text/plain": [
       "<IPython.core.display.HTML object>"
      ]
     },
     "metadata": {},
     "output_type": "display_data"
    }
   ],
   "source": [
    "from IPython.display import display, HTML\n",
    "display(HTML(\"<style>.container { width:85% !important; }</style>\"))"
   ]
  },
  {
   "cell_type": "code",
   "execution_count": null,
   "metadata": {},
   "outputs": [],
   "source": []
  },
  {
   "cell_type": "code",
   "execution_count": null,
   "metadata": {},
   "outputs": [],
   "source": []
  }
 ],
 "metadata": {
  "kernelspec": {
   "display_name": "Python 3 (ipykernel)",
   "language": "python",
   "name": "python3"
  },
  "language_info": {
   "codemirror_mode": {
    "name": "ipython",
    "version": 3
   },
   "file_extension": ".py",
   "mimetype": "text/x-python",
   "name": "python",
   "nbconvert_exporter": "python",
   "pygments_lexer": "ipython3",
   "version": "3.9.15"
  },
  "toc": {
   "base_numbering": 1,
   "nav_menu": {},
   "number_sections": true,
   "sideBar": true,
   "skip_h1_title": false,
   "title_cell": "Table of Contents",
   "title_sidebar": "Contents",
   "toc_cell": false,
   "toc_position": {},
   "toc_section_display": true,
   "toc_window_display": false
  },
  "vscode": {
   "interpreter": {
    "hash": "3a107eb37a1ad1a53c88d810388ae1cb7d2d13b620e76c8f51c8b471ca521bb1"
   }
  }
 },
 "nbformat": 4,
 "nbformat_minor": 2
}
