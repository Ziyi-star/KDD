{
 "cells": [
  {
   "cell_type": "code",
   "execution_count": 8,
   "metadata": {},
   "outputs": [
    {
     "data": {
      "text/html": [
       "<style>.container { width:85% !important; }</style>"
      ],
      "text/plain": [
       "<IPython.core.display.HTML object>"
      ]
     },
     "metadata": {},
     "output_type": "display_data"
    }
   ],
   "source": [
    "from IPython.display import display, HTML\n",
    "display(HTML(\"<style>.container { width:85% !important; }</style>\"))"
   ]
  },
  {
   "cell_type": "markdown",
   "metadata": {},
   "source": [
    "# Klassifikation mit *k*-Nearest-Neighbors\n",
    "Ziel dieser Übung ist das eigenständige Implementieren des Klassifikations-Algorithmus *k*-Nearest-Neighbors innerhalb des Jupyter-Notebooks. Implementieren sie folgende Variante des *k*-Nearest-Neighbors:\n",
    "- Alle Attribute sind vor der Benutzung auf den Wertebereich $[0;1]$ zu normieren. Beachten Sie dabei, dass für das \"Training\" des Klassifikators keine Informationen aus den Testdaten verwendet werden dürfen.\n",
    "- Als Distanzfunktion nutzen Sie bitte die euklidische Distanz.\n",
    "- Für das Abstimmen der *k* nächsten Nachbarn soll es vier Varianten geben, die mittels eines Parameters an die Klasse übergeben werden können:\n",
    "    1. Eine einfache Mehrheitsabstimmung unter den Nachbarn\n",
    "    2. Jeder Nachbar wird mit dem inversen Quadrat der Distanz gewichtet.\n",
    "    3. Die Stimmen einer Klasse werden mit dem Inversen ihrer Durchschnittsdistanz gewichtet.\n",
    "    4. Eine Mehrheitsabstimmung gewichtet nach der Verteilung der Klassen.\n",
    "   \n",
    "Sie dürfen die Pakete **collections**, **math** und **numpy** für Ihre Implementierung nutzen. Für die Ausführung der Tests benötigen Sie außerdem **pandas**.\n",
    "\n",
    "# Aufgaben für 6ECTS\n",
    "Der *k*-nearest Neighbor Algorithmus verwendet für die Klassifikation verschiedene Parameter: Es muss ein fester Wert für **k** und eine der Entscheidungsstrategien gewählt werden. Doch wie wählt man die Parameter sinnvoll? Eine Möglichkeit liefert die Kreuzvalidierung, welche Sie implementieren sollen:\n",
    "Die Funktion *train* hat einen Parameter **ks**. Falls dieser nicht *None* ist, soll dieser Parameter genutzt werden, um eine Liste von Möglichen *k* Werten zu übergeben. Sie sollen dann wie folgt vorgehen, um aus diser Liste von *k* Werten das bestmögliche *k* und die bestmögliche der 4 Stragtegien zu wählen:\n",
    "- Teilen Sie die Daten zufällig in 5 gleichgroße Teile auf. Nutzen Sie dafür die vorgegbene Funktion *split*.\n",
    "- Gehen Sie für jedes Kombination für *k* und jeder Stratege *s* wie folgt vor um die besten Werte zu finden:\n",
    "- Für jede der 5 Datensatzteile \"trainieren\" sie auf den üblichen 4 Teilen und klassifizieren die Daten des nicht zum Training verwerndeten Teil. Zählen Sie die richtigen Klassifikationen.\n",
    "- Summieren Sie auf, sodass sie die richtigen Entscheidungen über alle 5 Teile erhalten.\n",
    "- Nun haben sie für jedes Paar (*k*,*s*) eine Anzahl an richtigen Entscheidungen über die 5 Teile.\n",
    "- Wählen Sie nun die beste Kombination aus und \"trainieren\" sie auf den ganzen Datensatz. Speichern Sie außerdem das \"beste\" Paar (*k*,*s*).\n",
    "- Wird nun die Funktion *predict* mit *best_combination=True* aufgerufen, so sollen der ermittelte Wert für *k* und die ermittelte Strategie statt die übergebenen Werte genutzt werden.\n",
    "\n",
    "\n",
    "Damit die Aufgabe als sinnvoll bearbeitet gilt, sind folgende Anforderungen zu erfüllen:\n",
    "- Bei einem Durchlauf durch den Iris-Datensatz sollen keine Ausführungsfehler bestehen und (sehr) gute Werte für die Accuracy geliefert werden.\n",
    "- Abgabe der Übung bis 06.02.2023 23:59 Uhr im Moodle-Kurs. "
   ]
  },
  {
   "cell_type": "code",
   "execution_count": 9,
   "metadata": {},
   "outputs": [],
   "source": [
    "import math\n",
    "from collections import Counter, defaultdict\n",
    "import numpy as np\n",
    "import random # Just needed for 6ECTS\n",
    "\n",
    "\n",
    "def euclidean_dist(x, y):\n",
    "    # TODO\n",
    "    #prüfen ob die beiden Vektoren x und y die gleiche Dimension \n",
    "    assert len(x) == len(y)\n",
    "    #die Summe der quadrierten Differenzen berechnet \n",
    "    squared_dist = sum((xi - yi) ** 2 for xi, yi in zip(x, y))\n",
    "    return math.sqrt(squared_dist)\n",
    "\n",
    "def split(X, Y, n=5):\n",
    "    \"Split the training points and labels into 5 equal sized parts. Just needed for 6 ECTS.\"\n",
    "    m = list(range(len(X)))\n",
    "    X = np.array(X)\n",
    "    Y = np.array(Y)\n",
    "    indices = [np.array(m[i::n]) for i in range(n)]\n",
    "    X = [X[i].tolist() for i in indices]\n",
    "    Y = [Y[i].tolist() for i in indices]\n",
    "    return X, Y\n",
    "\n",
    "class KNN():\n",
    "    def __init__(self, dist_fun=euclidean_dist):\n",
    "        self.dist_fun = dist_fun\n",
    "        self.strategies = ['majority', 'inverse_squared_distance', 'inverse_avg_distance', 'distribution']\n",
    "    \n",
    "    def train(self, X, Y, ks=None):\n",
    "        \"\"\" Train this classifier. Takes a list of samples X and a list of class-labels Y.\n",
    "        Each sample is a list of numeric values. Each label is a string.\n",
    "        The parameter ks ist just needed for 6ECTS.\"\"\"\n",
    "        #x die numerische Daten,y labels/Bezeichnung, was macht gibt zurück keine Ahnung\n",
    "        assert(len(X) == len(Y))\n",
    "        \n",
    "        # TODO\n",
    "        #auf den Wertebereich [0;1] zu normieren\n",
    "        \n",
    "        #Eine einfache Mehrheitsabstimmung unter den Nachbarn\n",
    "        \n",
    "        # Jeder Nachbar wird mit dem inversen Quadrat der Distanz gewichtet.\n",
    "        \n",
    "        # Die Stimmen einer Klasse werden mit dem Inversen ihrer Durchschnittsdistanz gewichtet.\n",
    "        \n",
    "        # Eine Mehrheitsabstimmung gewichtet nach der Verteilung der Klassen.\n",
    "        \n",
    "        \n",
    "    \n",
    "    def predict(self, X, k=3, strategy='majority', best_combination=False):\n",
    "        \"\"\" Takes a list of samples X. Returns a list of predicted labels for the samples.\n",
    "        The parameter best_combination ist just needed for 6ECTS.\"\"\"\n",
    "        return [self.predict_sample(x, k, strategy) for x in X]\n",
    "    \n",
    "    def predict_sample(self, x, k=3, strategy='majority'):\n",
    "        \"\"\" Predicts the label for a single sample x. \"\"\"\n",
    "        \n",
    "        # TODO"
   ]
  },
  {
   "cell_type": "markdown",
   "metadata": {},
   "source": [
    "# Evaluierung des Klassifikators\n",
    "Mit diesem Code können Sie Ihre Implementierung anhand des mitgelieferten IRIS-Datensatzes testen. Probieren Sie auch verschiedene (sinnvolle) Werte für den Parameter *k*. Bitte ansonsten in diesem Teil nichts mehr ändern."
   ]
  },
  {
   "cell_type": "code",
   "execution_count": 10,
   "metadata": {},
   "outputs": [],
   "source": [
    "def accuracy(predictions, targets):\n",
    "    \"\"\" Calculates the accuracy for the given class predictions and true classes.\"\"\"\n",
    "    assert(len(predictions) == len(targets))\n",
    "    n_correct = len([p for p,t in zip(predictions, targets) if p==t])\n",
    "    return n_correct/len(predictions)"
   ]
  },
  {
   "cell_type": "code",
   "execution_count": 11,
   "metadata": {},
   "outputs": [],
   "source": [
    "def confusion_matrix(predictions, targets):\n",
    "    \"\"\" Returns a tuple (labels, m) where m is the confusion matrix and \n",
    "    labels is the list of matrix rows/columns in same order as in the matrix.\n",
    "    Rows in the confusion matrix indicate the true target label\n",
    "    whereas the columns indicate the predicted label of samples. \"\"\"\n",
    "    assert(len(predictions) == len(targets))\n",
    "    \n",
    "    # Map each label to an index.\n",
    "    unique_vals = list(set(predictions).union(targets))\n",
    "    mapping = {label: index for index, label in enumerate(unique_vals)}\n",
    "    \n",
    "    # Build and fill the confusion matrix.\n",
    "    #??\n",
    "    m = [[0]*len(mapping) for _ in range(len(mapping))]\n",
    "    for p, t in zip(predictions, targets):\n",
    "        row, col = mapping[t], mapping[p]\n",
    "        m[row][col] += 1\n",
    "    return unique_vals, m"
   ]
  },
  {
   "cell_type": "code",
   "execution_count": 12,
   "metadata": {},
   "outputs": [],
   "source": [
    "import pandas as pd\n",
    "\n",
    "# Load the csv and drop duplicate entries.\n",
    "data = pd.read_csv('iris.csv').drop_duplicates()\n",
    "\n",
    "# Draw a random sample without replacement for the test data.\n",
    "test_data = data.sample(n=50)\n"
   ]
  },
  {
   "cell_type": "code",
   "execution_count": 13,
   "metadata": {},
   "outputs": [
    {
     "name": "stdout",
     "output_type": "stream",
     "text": [
      "X_train:\n",
      "[[5.1, 3.5, 1.4, 0.2], [4.6, 3.1, 1.5, 0.2], [5.0, 3.6, 1.4, 0.2], [5.4, 3.7, 1.5, 0.2], [4.8, 3.4, 1.6, 0.2], [4.3, 3.0, 1.1, 0.1], [5.8, 4.0, 1.2, 0.2], [5.7, 4.4, 1.5, 0.4], [5.4, 3.9, 1.3, 0.4], [5.1, 3.5, 1.4, 0.3], [5.7, 3.8, 1.7, 0.3], [5.1, 3.8, 1.5, 0.3], [4.6, 3.6, 1.0, 0.2], [4.8, 3.4, 1.9, 0.2], [5.0, 3.0, 1.6, 0.2], [5.2, 3.5, 1.5, 0.2], [5.4, 3.4, 1.5, 0.4], [5.2, 4.1, 1.5, 0.1], [5.5, 4.2, 1.4, 0.2], [5.0, 3.2, 1.2, 0.2], [5.5, 3.5, 1.3, 0.2], [4.4, 3.0, 1.3, 0.2], [5.1, 3.4, 1.5, 0.2], [5.0, 3.5, 1.3, 0.3], [4.5, 2.3, 1.3, 0.3], [4.4, 3.2, 1.3, 0.2], [5.0, 3.5, 1.6, 0.6], [5.1, 3.8, 1.9, 0.4], [5.1, 3.8, 1.6, 0.2], [5.3, 3.7, 1.5, 0.2], [5.0, 3.3, 1.4, 0.2], [7.0, 3.2, 4.7, 1.4], [6.9, 3.1, 4.9, 1.5], [5.5, 2.3, 4.0, 1.3], [5.7, 2.8, 4.5, 1.3], [6.3, 3.3, 4.7, 1.6], [6.6, 2.9, 4.6, 1.3], [5.2, 2.7, 3.9, 1.4], [5.0, 2.0, 3.5, 1.0], [5.9, 3.0, 4.2, 1.5], [6.0, 2.2, 4.0, 1.0], [6.1, 2.9, 4.7, 1.4], [6.7, 3.1, 4.4, 1.4], [6.1, 2.8, 4.0, 1.3], [6.3, 2.5, 4.9, 1.5], [6.1, 2.8, 4.7, 1.2], [6.4, 2.9, 4.3, 1.3], [6.8, 2.8, 4.8, 1.4], [6.7, 3.0, 5.0, 1.7], [6.0, 2.9, 4.5, 1.5], [5.7, 2.6, 3.5, 1.0], [5.8, 2.7, 3.9, 1.2], [6.0, 2.7, 5.1, 1.6], [6.7, 3.1, 4.7, 1.5], [6.3, 2.3, 4.4, 1.3], [5.5, 2.5, 4.0, 1.3], [5.5, 2.6, 4.4, 1.2], [6.1, 3.0, 4.6, 1.4], [5.8, 2.6, 4.0, 1.2], [5.0, 2.3, 3.3, 1.0], [5.6, 2.7, 4.2, 1.3], [5.7, 3.0, 4.2, 1.2], [6.2, 2.9, 4.3, 1.3], [5.1, 2.5, 3.0, 1.1], [6.3, 3.3, 6.0, 2.5], [5.8, 2.7, 5.1, 1.9], [7.1, 3.0, 5.9, 2.1], [6.3, 2.9, 5.6, 1.8], [6.5, 3.0, 5.8, 2.2], [7.6, 3.0, 6.6, 2.1], [4.9, 2.5, 4.5, 1.7], [6.7, 2.5, 5.8, 1.8], [7.2, 3.6, 6.1, 2.5], [6.5, 3.2, 5.1, 2.0], [6.4, 2.7, 5.3, 1.9], [6.8, 3.0, 5.5, 2.1], [6.4, 3.2, 5.3, 2.3], [6.5, 3.0, 5.5, 1.8], [7.7, 3.8, 6.7, 2.2], [7.7, 2.6, 6.9, 2.3], [6.0, 2.2, 5.0, 1.5], [5.6, 2.8, 4.9, 2.0], [6.3, 2.7, 4.9, 1.8], [6.7, 3.3, 5.7, 2.1], [7.2, 3.2, 6.0, 1.8], [6.4, 2.8, 5.6, 2.1], [7.4, 2.8, 6.1, 1.9], [7.9, 3.8, 6.4, 2.0], [6.4, 2.8, 5.6, 2.2], [6.3, 2.8, 5.1, 1.5], [6.3, 3.4, 5.6, 2.4], [6.0, 3.0, 4.8, 1.8], [6.9, 3.1, 5.4, 2.1], [6.7, 3.1, 5.6, 2.4], [6.3, 2.5, 5.0, 1.9], [6.5, 3.0, 5.2, 2.0], [6.2, 3.4, 5.4, 2.3]]\n",
      "Y_train:\n",
      "['setosa', 'setosa', 'setosa', 'setosa', 'setosa', 'setosa', 'setosa', 'setosa', 'setosa', 'setosa', 'setosa', 'setosa', 'setosa', 'setosa', 'setosa', 'setosa', 'setosa', 'setosa', 'setosa', 'setosa', 'setosa', 'setosa', 'setosa', 'setosa', 'setosa', 'setosa', 'setosa', 'setosa', 'setosa', 'setosa', 'setosa', 'versicolor', 'versicolor', 'versicolor', 'versicolor', 'versicolor', 'versicolor', 'versicolor', 'versicolor', 'versicolor', 'versicolor', 'versicolor', 'versicolor', 'versicolor', 'versicolor', 'versicolor', 'versicolor', 'versicolor', 'versicolor', 'versicolor', 'versicolor', 'versicolor', 'versicolor', 'versicolor', 'versicolor', 'versicolor', 'versicolor', 'versicolor', 'versicolor', 'versicolor', 'versicolor', 'versicolor', 'versicolor', 'versicolor', 'virginica', 'virginica', 'virginica', 'virginica', 'virginica', 'virginica', 'virginica', 'virginica', 'virginica', 'virginica', 'virginica', 'virginica', 'virginica', 'virginica', 'virginica', 'virginica', 'virginica', 'virginica', 'virginica', 'virginica', 'virginica', 'virginica', 'virginica', 'virginica', 'virginica', 'virginica', 'virginica', 'virginica', 'virginica', 'virginica', 'virginica', 'virginica', 'virginica']\n"
     ]
    }
   ],
   "source": [
    "# The other samples are used as training data.\n",
    "train_data = data.loc[data.index.drop(test_data.index), :]\n",
    "\n",
    "def df_to_vectors(df):\n",
    "    \"\"\"Takes a pandas data-frame from the iris dataset as input.\n",
    "    Returns a tuple (X, Y) where Y is a list of class labels and X is the list of sample-vectors\n",
    "    with each vector represented as a list of numeric values.\"\"\"\n",
    "    df = df.copy()\n",
    "    classes = df['species']\n",
    "    del df['species']\n",
    "    return df.values.tolist(), classes.values.tolist()\n",
    "\n",
    "# Convert train and test-data to lists of vectors and class labels.\n",
    "X_train, Y_train = df_to_vectors(train_data)\n",
    "\n",
    "print('X_train:')\n",
    "print(X_train)\n",
    "print('Y_train:')\n",
    "print(Y_train)"
   ]
  },
  {
   "cell_type": "code",
   "execution_count": 14,
   "metadata": {},
   "outputs": [],
   "source": [
    "X_test, Y_test = df_to_vectors(test_data)"
   ]
  },
  {
   "cell_type": "code",
   "execution_count": 15,
   "metadata": {},
   "outputs": [
    {
     "name": "stdout",
     "output_type": "stream",
     "text": [
      "Accuracy of strategy majority: 0.0\n",
      "Confusion matrix:\n",
      "[0, 0, 17, 0]\n",
      "[0, 0, 16, 0]\n",
      "[0, 0, 0, 0]\n",
      "[0, 0, 17, 0]\n",
      "----------\n",
      "Accuracy of strategy inverse_squared_distance: 0.0\n",
      "Confusion matrix:\n",
      "[0, 0, 17, 0]\n",
      "[0, 0, 16, 0]\n",
      "[0, 0, 0, 0]\n",
      "[0, 0, 17, 0]\n",
      "----------\n",
      "Accuracy of strategy inverse_avg_distance: 0.0\n",
      "Confusion matrix:\n",
      "[0, 0, 17, 0]\n",
      "[0, 0, 16, 0]\n",
      "[0, 0, 0, 0]\n",
      "[0, 0, 17, 0]\n",
      "----------\n",
      "Accuracy of strategy distribution: 0.0\n",
      "Confusion matrix:\n",
      "[0, 0, 17, 0]\n",
      "[0, 0, 16, 0]\n",
      "[0, 0, 0, 0]\n",
      "[0, 0, 17, 0]\n",
      "----------\n"
     ]
    }
   ],
   "source": [
    "clf = KNN()\n",
    "clf.train(X_train, Y_train)\n",
    "for strategy in clf.strategies:\n",
    "    predictions = clf.predict(X_test, strategy=strategy, k=3)\n",
    "    print('Accuracy of strategy {}: {}'.format(strategy, accuracy(predictions, Y_test)))\n",
    "    labels, matrix = confusion_matrix(predictions, Y_test)\n",
    "    print('Confusion matrix:')\n",
    "    print('\\n'.join([str(row) for row in matrix]))\n",
    "    print('----------')"
   ]
  },
  {
   "cell_type": "markdown",
   "metadata": {},
   "source": [
    "# Delete the following Lines if you just need 3 ECTS!"
   ]
  },
  {
   "cell_type": "code",
   "execution_count": null,
   "metadata": {},
   "outputs": [],
   "source": [
    "clf = KNN()\n",
    "clf.train(X_train, Y_train, ks=[1, 3, 5, 7])\n",
    "print(\"Best combination:\")\n",
    "print(\"k:\", clf.k)\n",
    "print(\"strategy:\", clf.strategy)\n",
    "print(\"-----------\")\n",
    "predictions = clf.predict(X_test, best_combination=True)\n",
    "labels, matrix = confusion_matrix(predictions, Y_test)\n",
    "print('Accuracy {}'.format(accuracy(predictions, Y_test)))\n",
    "print('Confusion matrix:')\n",
    "print('\\n'.join([str(row) for row in matrix]))"
   ]
  }
 ],
 "metadata": {
  "kernelspec": {
   "display_name": "Python 3 (ipykernel)",
   "language": "python",
   "name": "python3"
  },
  "language_info": {
   "codemirror_mode": {
    "name": "ipython",
    "version": 3
   },
   "file_extension": ".py",
   "mimetype": "text/x-python",
   "name": "python",
   "nbconvert_exporter": "python",
   "pygments_lexer": "ipython3",
   "version": "3.9.15"
  },
  "toc": {
   "base_numbering": 1,
   "nav_menu": {},
   "number_sections": true,
   "sideBar": true,
   "skip_h1_title": false,
   "title_cell": "Table of Contents",
   "title_sidebar": "Contents",
   "toc_cell": false,
   "toc_position": {},
   "toc_section_display": true,
   "toc_window_display": false
  }
 },
 "nbformat": 4,
 "nbformat_minor": 2
}
