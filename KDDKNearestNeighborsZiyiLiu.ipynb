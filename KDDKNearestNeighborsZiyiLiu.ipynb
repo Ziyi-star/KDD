{
 "cells": [
  {
   "cell_type": "code",
   "execution_count": 3,
   "metadata": {},
   "outputs": [
    {
     "data": {
      "text/html": [
       "<style>.container { width:85% !important; }</style>"
      ],
      "text/plain": [
       "<IPython.core.display.HTML object>"
      ]
     },
     "metadata": {},
     "output_type": "display_data"
    }
   ],
   "source": [
    "from IPython.display import display, HTML\n",
    "display(HTML(\"<style>.container { width:85% !important; }</style>\"))"
   ]
  },
  {
   "cell_type": "markdown",
   "metadata": {},
   "source": [
    "# Klassifikation mit *k*-Nearest-Neighbors\n",
    "Ziel dieser Übung ist das eigenständige Implementieren des Klassifikations-Algorithmus *k*-Nearest-Neighbors innerhalb des Jupyter-Notebooks. Implementieren sie folgende Variante des *k*-Nearest-Neighbors:\n",
    "- Alle Attribute sind vor der Benutzung auf den Wertebereich $[0;1]$ zu normieren. Beachten Sie dabei, dass für das \"Training\" des Klassifikators keine Informationen aus den Testdaten verwendet werden dürfen.\n",
    "- Als Distanzfunktion nutzen Sie bitte die euklidische Distanz.\n",
    "- Für das Abstimmen der *k* nächsten Nachbarn soll es vier Varianten geben, die mittels eines Parameters an die Klasse übergeben werden können:\n",
    "    1. Eine einfache Mehrheitsabstimmung unter den Nachbarn\n",
    "    2. Jeder Nachbar wird mit dem inversen Quadrat der Distanz gewichtet.\n",
    "    3. Die Stimmen einer Klasse werden mit dem Inversen ihrer Durchschnittsdistanz gewichtet.\n",
    "    4. Eine Mehrheitsabstimmung gewichtet nach der Verteilung der Klassen.\n",
    "   \n",
    "Sie dürfen die Pakete **collections**, **math** und **numpy** für Ihre Implementierung nutzen. Für die Ausführung der Tests benötigen Sie außerdem **pandas**.\n",
    "\n",
    "# Aufgaben für 6ECTS\n",
    "Der *k*-nearest Neighbor Algorithmus verwendet für die Klassifikation verschiedene Parameter: Es muss ein fester Wert für **k** und eine der Entscheidungsstrategien gewählt werden. Doch wie wählt man die Parameter sinnvoll? Eine Möglichkeit liefert die Kreuzvalidierung, welche Sie implementieren sollen:\n",
    "Die Funktion *train* hat einen Parameter **ks**. Falls dieser nicht *None* ist, soll dieser Parameter genutzt werden, um eine Liste von Möglichen *k* Werten zu übergeben. Sie sollen dann wie folgt vorgehen, um aus diser Liste von *k* Werten das bestmögliche *k* und die bestmögliche der 4 Stragtegien zu wählen:\n",
    "- Teilen Sie die Daten zufällig in 5 gleichgroße Teile auf. Nutzen Sie dafür die vorgegbene Funktion *split*.\n",
    "- Gehen Sie für jedes Kombination für *k* und jeder Stratege *s* wie folgt vor um die besten Werte zu finden:\n",
    "- Für jede der 5 Datensatzteile \"trainieren\" sie auf den üblichen 4 Teilen und klassifizieren die Daten des nicht zum Training verwerndeten Teil. Zählen Sie die richtigen Klassifikationen.\n",
    "- Summieren Sie auf, sodass sie die richtigen Entscheidungen über alle 5 Teile erhalten.\n",
    "- Nun haben sie für jedes Paar (*k*,*s*) eine Anzahl an richtigen Entscheidungen über die 5 Teile.\n",
    "- Wählen Sie nun die beste Kombination aus und \"trainieren\" sie auf den ganzen Datensatz. Speichern Sie außerdem das \"beste\" Paar (*k*,*s*).\n",
    "- Wird nun die Funktion *predict* mit *best_combination=True* aufgerufen, so sollen der ermittelte Wert für *k* und die ermittelte Strategie statt die übergebenen Werte genutzt werden.\n",
    "\n",
    "\n",
    "Damit die Aufgabe als sinnvoll bearbeitet gilt, sind folgende Anforderungen zu erfüllen:\n",
    "- Bei einem Durchlauf durch den Iris-Datensatz sollen keine Ausführungsfehler bestehen und (sehr) gute Werte für die Accuracy geliefert werden.\n",
    "- Abgabe der Übung bis 06.02.2023 23:59 Uhr im Moodle-Kurs. "
   ]
  },
  {
   "cell_type": "code",
   "execution_count": 37,
   "metadata": {},
   "outputs": [],
   "source": [
    "import math\n",
    "from collections import Counter, defaultdict\n",
    "import numpy as np\n",
    "import random # Just needed for 6ECTS\n",
    "\n",
    "\n",
    "def euclidean_dist(x, y):\n",
    "    # TODO\n",
    "    #prüfen ob die beiden Vektoren x und y die gleiche Dimension \n",
    "    assert len(x) == len(y)\n",
    "    #die Summe der quadrierten Differenzen berechnet \n",
    "    squared_dist = sum((xi - yi) ** 2 for xi, yi in zip(x, y))\n",
    "    return math.sqrt(squared_dist)\n",
    "\n",
    "def split(X, Y, n=5):\n",
    "    \"Split the training points and labels into 5 equal sized parts. Just needed for 6 ECTS.\"\n",
    "    m = list(range(len(X)))\n",
    "    X = np.array(X)\n",
    "    Y = np.array(Y)\n",
    "    indices = [np.array(m[i::n]) for i in range(n)]\n",
    "    X = [X[i].tolist() for i in indices]\n",
    "    Y = [Y[i].tolist() for i in indices]\n",
    "    return X, Y\n",
    "\n",
    "class KNN():\n",
    "    def __init__(self, dist_fun=euclidean_dist):\n",
    "        self.dist_fun = dist_fun\n",
    "        self.strategies = ['majority', 'inverse_squared_distance', 'inverse_avg_distance', 'distribution']\n",
    "        self.k = None\n",
    "        self.strategy = None\n",
    "        self.trainingDataWert = None\n",
    "        self.trainingDataLabel = None\n",
    "        self.dataMin = None\n",
    "        self.dataMax = None\n",
    "        \n",
    "    \n",
    "    def train(self, X, Y, ks=None):\n",
    "        \"\"\" Train this classifier. Takes a list of samples X and a list of class-labels Y.\n",
    "        Each sample is a list of numeric values. Each label is a string.\n",
    "        The parameter ks ist just needed for 6ECTS.\"\"\"\n",
    "        #x die numerische Daten,y labels/Bezeichnung, was macht gibt zurück keine Ahnung\n",
    "        assert(len(X) == len(Y))\n",
    "        \n",
    "        # TODO\n",
    "        #auf den Wertebereich [0;1] zu normieren\n",
    "        data = np.array(X)\n",
    "        self.dataMin = np.min(data)\n",
    "        self.dataMax = np.max(data)\n",
    "        normalizedData = (data-np.min(data))/(np.max(data)-np.min(data))\n",
    "        if ks == None:\n",
    "            #dictionary erstellen mit label und nomierte Werte\n",
    "            self.trainingDataWert = normalizedData\n",
    "            self.trainingDataLabel = Y\n",
    "        else:\n",
    "            return None\n",
    "    \n",
    "    def predict(self, X, k=3, strategy='majority', best_combination=False):\n",
    "        \"\"\" Takes a list of samples X. Returns a list of predicted labels for the samples.\n",
    "        The parameter best_combination ist just needed for 6ECTS.\"\"\"\n",
    "        return [self.predict_sample(x, k, strategy) for x in X]\n",
    "    \n",
    "    def predict_sample(self, x, k=3, strategy='majority'):\n",
    "        \"\"\" Predicts the label for a single sample x. \"\"\"\n",
    "        \n",
    "        # TODO\n",
    "        #x normalisieren\n",
    "        xNormilized = (x-self.dataMin)/(self.dataMax-self.dataMin)\n",
    "        # für alle traing Data,  Abstand zwischen x und data berechnen, speichert in eine List für folgenden Fällen\n",
    "        distances = [(self.trainingDataLabel[i], self.dist_fun(self.trainingDataWert[i], xNormilized)) for i in range(len(self.trainingDataWert))]\n",
    "        distances.sort(key=lambda x:x[1])\n",
    "        #         print('distances')\n",
    "#         print(distances)\n",
    "        #Eine einfache Mehrheitsabstimmung unter den Nachbarn\n",
    "        if strategy == 'majority':\n",
    "            #Sortieren in aufsteigender Reihenfolge, basierend auf einem Abstandswert\n",
    "            #Ermitteln der ersten k Stichproben\n",
    "            neighbors = [distances[i][0] for i in range(k)]\n",
    "            prediction = max(neighbors,key=neighbors.count)\n",
    "            \n",
    "        # Jeder Nachbar wird mit dem inversen Quadrat der Distanz gewichtet.\n",
    "        if strategy == 'inverse_squared_distance':\n",
    "            neighbors = [(distances[i][0],distances[i][1]) for i in range(k)]\n",
    "            neighbor_counts = {}\n",
    "            for (neighbor,distance) in neighbors:\n",
    "                # die dict.get()-Methode verwendet, um die aktuelle Anzahl der einzelnen Nachbarn abzurufen, \n",
    "                #und standardmäßig 0, wenn der Nachbar nicht im Wörterbuch enthalten ist\n",
    "                neighbor_counts[neighbor] = neighbor_counts.get(neighbor, 0) + 1/distance**2\n",
    "            prediction = max(neighbor_counts, key=neighbor_counts.get)\n",
    "\n",
    "            \n",
    "            \n",
    "#             print(prediction)\n",
    "        # Die Stimmen einer Klasse werden mit dem Inversen ihrer Durchschnittsdistanz gewichtet.\n",
    "#         if strategy == 'inverse_avg_distance':\n",
    "#             #for all class in traingset\n",
    "#                 X_class = X[y == class_label]\n",
    "\n",
    "#                 # Calculate centroid of the subset\n",
    "#                 centroid = np.mean(X_class, axis=0)\n",
    "\n",
    "#                 # Calculate distances between each sample and the centroid\n",
    "#                 dists = np.sqrt(np.sum((X_class - centroid)**2, axis=1))\n",
    "\n",
    "#                 # Calculate average distance of the subset\n",
    "#                 avg_dist = np.mean(dists)\n",
    "\n",
    "#             # Calculate inverse of average distance\n",
    "#             inv_avg_dist = 1 / avg_dist\n",
    "        \n",
    "#         # Eine Mehrheitsabstimmung gewichtet nach der Verteilung der Klassen.\n",
    "#         if strategy == 'distribution':\n",
    "        \n",
    "        return prediction\n"
   ]
  },
  {
   "cell_type": "markdown",
   "metadata": {},
   "source": [
    "# Evaluierung des Klassifikators\n",
    "Mit diesem Code können Sie Ihre Implementierung anhand des mitgelieferten IRIS-Datensatzes testen. Probieren Sie auch verschiedene (sinnvolle) Werte für den Parameter *k*. Bitte ansonsten in diesem Teil nichts mehr ändern."
   ]
  },
  {
   "cell_type": "code",
   "execution_count": 38,
   "metadata": {},
   "outputs": [],
   "source": [
    "def accuracy(predictions, targets):\n",
    "    \"\"\" Calculates the accuracy for the given class predictions and true classes.\"\"\"\n",
    "    assert(len(predictions) == len(targets))\n",
    "    n_correct = len([p for p,t in zip(predictions, targets) if p==t])\n",
    "    return n_correct/len(predictions)"
   ]
  },
  {
   "cell_type": "code",
   "execution_count": 39,
   "metadata": {},
   "outputs": [],
   "source": [
    "def confusion_matrix(predictions, targets):\n",
    "    \"\"\" Returns a tuple (labels, m) where m is the confusion matrix and \n",
    "    labels is the list of matrix rows/columns in same order as in the matrix.\n",
    "    Rows in the confusion matrix indicate the true target label\n",
    "    whereas the columns indicate the predicted label of samples. \"\"\"\n",
    "    assert(len(predictions) == len(targets))\n",
    "    \n",
    "    # Map each label to an index.\n",
    "    #Return a set that contains all items from both sets, duplicates are excluded:\n",
    "    unique_vals = list(set(predictions).union(targets))\n",
    "    mapping = {label: index for index, label in enumerate(unique_vals)}\n",
    "    \n",
    "    # Build and fill the confusion matrix.\n",
    "    #??\n",
    "    m = [[0]*len(mapping) for _ in range(len(mapping))]\n",
    "    for p, t in zip(predictions, targets):\n",
    "        row, col = mapping[t], mapping[p]\n",
    "        #row ist target, col ist prediction mit indexanzahl \n",
    "        m[row][col] += 1\n",
    "    return unique_vals, m"
   ]
  },
  {
   "cell_type": "code",
   "execution_count": 40,
   "metadata": {},
   "outputs": [],
   "source": [
    "import pandas as pd\n",
    "\n",
    "# Load the csv and drop duplicate entries.\n",
    "data = pd.read_csv('iris.csv').drop_duplicates()\n",
    "\n",
    "# Draw a random sample without replacement for the test data.\n",
    "test_data = data.sample(n=50)\n"
   ]
  },
  {
   "cell_type": "code",
   "execution_count": 41,
   "metadata": {},
   "outputs": [],
   "source": [
    "# The other samples are used as training data.\n",
    "train_data = data.loc[data.index.drop(test_data.index), :]\n",
    "\n",
    "def df_to_vectors(df):\n",
    "    \"\"\"Takes a pandas data-frame from the iris dataset as input.\n",
    "    Returns a tuple (X, Y) where Y is a list of class labels and X is the list of sample-vectors\n",
    "    with each vector represented as a list of numeric values.\"\"\"\n",
    "    df = df.copy()\n",
    "    classes = df['species']\n",
    "    del df['species']\n",
    "    return df.values.tolist(), classes.values.tolist()\n",
    "\n",
    "# Convert train and test-data to lists of vectors and class labels.\n",
    "X_train, Y_train = df_to_vectors(train_data)\n",
    "\n",
    "# print('X_train:')\n",
    "# print(X_train)\n",
    "# print('Y_train:')\n",
    "# print(Y_train)"
   ]
  },
  {
   "cell_type": "code",
   "execution_count": 42,
   "metadata": {},
   "outputs": [],
   "source": [
    "X_test, Y_test = df_to_vectors(test_data)"
   ]
  },
  {
   "cell_type": "code",
   "execution_count": 43,
   "metadata": {},
   "outputs": [],
   "source": [
    "clf = KNN()\n",
    "clf.train(X_train, Y_train)\n",
    "predictions = clf.predict(X_test, strategy='inverse_squared_distance', k=3)\n"
   ]
  },
  {
   "cell_type": "code",
   "execution_count": 44,
   "metadata": {},
   "outputs": [
    {
     "name": "stdout",
     "output_type": "stream",
     "text": [
      "Accuracy of strategy majority: 0.94\n",
      "Confusion matrix:\n",
      "[16, 2, 0]\n",
      "[1, 14, 0]\n",
      "[0, 0, 17]\n",
      "----------\n",
      "Accuracy of strategy inverse_squared_distance: 0.94\n",
      "Confusion matrix:\n",
      "[16, 2, 0]\n",
      "[1, 14, 0]\n",
      "[0, 0, 17]\n",
      "----------\n"
     ]
    },
    {
     "ename": "UnboundLocalError",
     "evalue": "local variable 'prediction' referenced before assignment",
     "output_type": "error",
     "traceback": [
      "\u001b[1;31m---------------------------------------------------------------------------\u001b[0m",
      "\u001b[1;31mUnboundLocalError\u001b[0m                         Traceback (most recent call last)",
      "\u001b[1;32m~\\AppData\\Local\\Temp\\ipykernel_13516\\3672064370.py\u001b[0m in \u001b[0;36m<module>\u001b[1;34m\u001b[0m\n\u001b[0;32m      1\u001b[0m \u001b[1;32mfor\u001b[0m \u001b[0mstrategy\u001b[0m \u001b[1;32min\u001b[0m \u001b[0mclf\u001b[0m\u001b[1;33m.\u001b[0m\u001b[0mstrategies\u001b[0m\u001b[1;33m:\u001b[0m\u001b[1;33m\u001b[0m\u001b[1;33m\u001b[0m\u001b[0m\n\u001b[1;32m----> 2\u001b[1;33m     \u001b[0mpredictions\u001b[0m \u001b[1;33m=\u001b[0m \u001b[0mclf\u001b[0m\u001b[1;33m.\u001b[0m\u001b[0mpredict\u001b[0m\u001b[1;33m(\u001b[0m\u001b[0mX_test\u001b[0m\u001b[1;33m,\u001b[0m \u001b[0mstrategy\u001b[0m\u001b[1;33m=\u001b[0m\u001b[0mstrategy\u001b[0m\u001b[1;33m,\u001b[0m \u001b[0mk\u001b[0m\u001b[1;33m=\u001b[0m\u001b[1;36m3\u001b[0m\u001b[1;33m)\u001b[0m\u001b[1;33m\u001b[0m\u001b[1;33m\u001b[0m\u001b[0m\n\u001b[0m\u001b[0;32m      3\u001b[0m     \u001b[0mprint\u001b[0m\u001b[1;33m(\u001b[0m\u001b[1;34m'Accuracy of strategy {}: {}'\u001b[0m\u001b[1;33m.\u001b[0m\u001b[0mformat\u001b[0m\u001b[1;33m(\u001b[0m\u001b[0mstrategy\u001b[0m\u001b[1;33m,\u001b[0m \u001b[0maccuracy\u001b[0m\u001b[1;33m(\u001b[0m\u001b[0mpredictions\u001b[0m\u001b[1;33m,\u001b[0m \u001b[0mY_test\u001b[0m\u001b[1;33m)\u001b[0m\u001b[1;33m)\u001b[0m\u001b[1;33m)\u001b[0m\u001b[1;33m\u001b[0m\u001b[1;33m\u001b[0m\u001b[0m\n\u001b[0;32m      4\u001b[0m     \u001b[0mlabels\u001b[0m\u001b[1;33m,\u001b[0m \u001b[0mmatrix\u001b[0m \u001b[1;33m=\u001b[0m \u001b[0mconfusion_matrix\u001b[0m\u001b[1;33m(\u001b[0m\u001b[0mpredictions\u001b[0m\u001b[1;33m,\u001b[0m \u001b[0mY_test\u001b[0m\u001b[1;33m)\u001b[0m\u001b[1;33m\u001b[0m\u001b[1;33m\u001b[0m\u001b[0m\n\u001b[0;32m      5\u001b[0m     \u001b[0mprint\u001b[0m\u001b[1;33m(\u001b[0m\u001b[1;34m'Confusion matrix:'\u001b[0m\u001b[1;33m)\u001b[0m\u001b[1;33m\u001b[0m\u001b[1;33m\u001b[0m\u001b[0m\n",
      "\u001b[1;32m~\\AppData\\Local\\Temp\\ipykernel_13516\\77517988.py\u001b[0m in \u001b[0;36mpredict\u001b[1;34m(self, X, k, strategy, best_combination)\u001b[0m\n\u001b[0;32m     58\u001b[0m         \"\"\" Takes a list of samples X. Returns a list of predicted labels for the samples.\n\u001b[0;32m     59\u001b[0m         The parameter best_combination ist just needed for 6ECTS.\"\"\"\n\u001b[1;32m---> 60\u001b[1;33m         \u001b[1;32mreturn\u001b[0m \u001b[1;33m[\u001b[0m\u001b[0mself\u001b[0m\u001b[1;33m.\u001b[0m\u001b[0mpredict_sample\u001b[0m\u001b[1;33m(\u001b[0m\u001b[0mx\u001b[0m\u001b[1;33m,\u001b[0m \u001b[0mk\u001b[0m\u001b[1;33m,\u001b[0m \u001b[0mstrategy\u001b[0m\u001b[1;33m)\u001b[0m \u001b[1;32mfor\u001b[0m \u001b[0mx\u001b[0m \u001b[1;32min\u001b[0m \u001b[0mX\u001b[0m\u001b[1;33m]\u001b[0m\u001b[1;33m\u001b[0m\u001b[1;33m\u001b[0m\u001b[0m\n\u001b[0m\u001b[0;32m     61\u001b[0m \u001b[1;33m\u001b[0m\u001b[0m\n\u001b[0;32m     62\u001b[0m     \u001b[1;32mdef\u001b[0m \u001b[0mpredict_sample\u001b[0m\u001b[1;33m(\u001b[0m\u001b[0mself\u001b[0m\u001b[1;33m,\u001b[0m \u001b[0mx\u001b[0m\u001b[1;33m,\u001b[0m \u001b[0mk\u001b[0m\u001b[1;33m=\u001b[0m\u001b[1;36m3\u001b[0m\u001b[1;33m,\u001b[0m \u001b[0mstrategy\u001b[0m\u001b[1;33m=\u001b[0m\u001b[1;34m'majority'\u001b[0m\u001b[1;33m)\u001b[0m\u001b[1;33m:\u001b[0m\u001b[1;33m\u001b[0m\u001b[1;33m\u001b[0m\u001b[0m\n",
      "\u001b[1;32m~\\AppData\\Local\\Temp\\ipykernel_13516\\77517988.py\u001b[0m in \u001b[0;36m<listcomp>\u001b[1;34m(.0)\u001b[0m\n\u001b[0;32m     58\u001b[0m         \"\"\" Takes a list of samples X. Returns a list of predicted labels for the samples.\n\u001b[0;32m     59\u001b[0m         The parameter best_combination ist just needed for 6ECTS.\"\"\"\n\u001b[1;32m---> 60\u001b[1;33m         \u001b[1;32mreturn\u001b[0m \u001b[1;33m[\u001b[0m\u001b[0mself\u001b[0m\u001b[1;33m.\u001b[0m\u001b[0mpredict_sample\u001b[0m\u001b[1;33m(\u001b[0m\u001b[0mx\u001b[0m\u001b[1;33m,\u001b[0m \u001b[0mk\u001b[0m\u001b[1;33m,\u001b[0m \u001b[0mstrategy\u001b[0m\u001b[1;33m)\u001b[0m \u001b[1;32mfor\u001b[0m \u001b[0mx\u001b[0m \u001b[1;32min\u001b[0m \u001b[0mX\u001b[0m\u001b[1;33m]\u001b[0m\u001b[1;33m\u001b[0m\u001b[1;33m\u001b[0m\u001b[0m\n\u001b[0m\u001b[0;32m     61\u001b[0m \u001b[1;33m\u001b[0m\u001b[0m\n\u001b[0;32m     62\u001b[0m     \u001b[1;32mdef\u001b[0m \u001b[0mpredict_sample\u001b[0m\u001b[1;33m(\u001b[0m\u001b[0mself\u001b[0m\u001b[1;33m,\u001b[0m \u001b[0mx\u001b[0m\u001b[1;33m,\u001b[0m \u001b[0mk\u001b[0m\u001b[1;33m=\u001b[0m\u001b[1;36m3\u001b[0m\u001b[1;33m,\u001b[0m \u001b[0mstrategy\u001b[0m\u001b[1;33m=\u001b[0m\u001b[1;34m'majority'\u001b[0m\u001b[1;33m)\u001b[0m\u001b[1;33m:\u001b[0m\u001b[1;33m\u001b[0m\u001b[1;33m\u001b[0m\u001b[0m\n",
      "\u001b[1;32m~\\AppData\\Local\\Temp\\ipykernel_13516\\77517988.py\u001b[0m in \u001b[0;36mpredict_sample\u001b[1;34m(self, x, k, strategy)\u001b[0m\n\u001b[0;32m    111\u001b[0m \u001b[1;31m#         if strategy == 'distribution':\u001b[0m\u001b[1;33m\u001b[0m\u001b[1;33m\u001b[0m\u001b[0m\n\u001b[0;32m    112\u001b[0m \u001b[1;33m\u001b[0m\u001b[0m\n\u001b[1;32m--> 113\u001b[1;33m         \u001b[1;32mreturn\u001b[0m \u001b[0mprediction\u001b[0m\u001b[1;33m\u001b[0m\u001b[1;33m\u001b[0m\u001b[0m\n\u001b[0m",
      "\u001b[1;31mUnboundLocalError\u001b[0m: local variable 'prediction' referenced before assignment"
     ]
    }
   ],
   "source": [
    "\n",
    "for strategy in clf.strategies:\n",
    "    predictions = clf.predict(X_test, strategy=strategy, k=3)\n",
    "    print('Accuracy of strategy {}: {}'.format(strategy, accuracy(predictions, Y_test)))\n",
    "    labels, matrix = confusion_matrix(predictions, Y_test)\n",
    "    print('Confusion matrix:')\n",
    "    print('\\n'.join([str(row) for row in matrix]))\n",
    "    print('----------')"
   ]
  },
  {
   "cell_type": "markdown",
   "metadata": {},
   "source": [
    "# Delete the following Lines if you just need 3 ECTS!"
   ]
  },
  {
   "cell_type": "code",
   "execution_count": 174,
   "metadata": {},
   "outputs": [
    {
     "name": "stdout",
     "output_type": "stream",
     "text": [
      "Best combination:\n",
      "k: None\n",
      "strategy: None\n",
      "-----------\n"
     ]
    },
    {
     "ename": "TypeError",
     "evalue": "object of type 'NoneType' has no len()",
     "output_type": "error",
     "traceback": [
      "\u001b[1;31m---------------------------------------------------------------------------\u001b[0m",
      "\u001b[1;31mTypeError\u001b[0m                                 Traceback (most recent call last)",
      "\u001b[1;32m~\\AppData\\Local\\Temp\\ipykernel_10736\\473253498.py\u001b[0m in \u001b[0;36m<cell line: 7>\u001b[1;34m()\u001b[0m\n\u001b[0;32m      5\u001b[0m \u001b[0mprint\u001b[0m\u001b[1;33m(\u001b[0m\u001b[1;34m\"strategy:\"\u001b[0m\u001b[1;33m,\u001b[0m \u001b[0mclf\u001b[0m\u001b[1;33m.\u001b[0m\u001b[0mstrategy\u001b[0m\u001b[1;33m)\u001b[0m\u001b[1;33m\u001b[0m\u001b[1;33m\u001b[0m\u001b[0m\n\u001b[0;32m      6\u001b[0m \u001b[0mprint\u001b[0m\u001b[1;33m(\u001b[0m\u001b[1;34m\"-----------\"\u001b[0m\u001b[1;33m)\u001b[0m\u001b[1;33m\u001b[0m\u001b[1;33m\u001b[0m\u001b[0m\n\u001b[1;32m----> 7\u001b[1;33m \u001b[0mpredictions\u001b[0m \u001b[1;33m=\u001b[0m \u001b[0mclf\u001b[0m\u001b[1;33m.\u001b[0m\u001b[0mpredict\u001b[0m\u001b[1;33m(\u001b[0m\u001b[0mX_test\u001b[0m\u001b[1;33m,\u001b[0m \u001b[0mbest_combination\u001b[0m\u001b[1;33m=\u001b[0m\u001b[1;32mTrue\u001b[0m\u001b[1;33m)\u001b[0m\u001b[1;33m\u001b[0m\u001b[1;33m\u001b[0m\u001b[0m\n\u001b[0m\u001b[0;32m      8\u001b[0m \u001b[0mlabels\u001b[0m\u001b[1;33m,\u001b[0m \u001b[0mmatrix\u001b[0m \u001b[1;33m=\u001b[0m \u001b[0mconfusion_matrix\u001b[0m\u001b[1;33m(\u001b[0m\u001b[0mpredictions\u001b[0m\u001b[1;33m,\u001b[0m \u001b[0mY_test\u001b[0m\u001b[1;33m)\u001b[0m\u001b[1;33m\u001b[0m\u001b[1;33m\u001b[0m\u001b[0m\n\u001b[0;32m      9\u001b[0m \u001b[0mprint\u001b[0m\u001b[1;33m(\u001b[0m\u001b[1;34m'Accuracy {}'\u001b[0m\u001b[1;33m.\u001b[0m\u001b[0mformat\u001b[0m\u001b[1;33m(\u001b[0m\u001b[0maccuracy\u001b[0m\u001b[1;33m(\u001b[0m\u001b[0mpredictions\u001b[0m\u001b[1;33m,\u001b[0m \u001b[0mY_test\u001b[0m\u001b[1;33m)\u001b[0m\u001b[1;33m)\u001b[0m\u001b[1;33m)\u001b[0m\u001b[1;33m\u001b[0m\u001b[1;33m\u001b[0m\u001b[0m\n",
      "\u001b[1;32m~\\AppData\\Local\\Temp\\ipykernel_10736\\3785515446.py\u001b[0m in \u001b[0;36mpredict\u001b[1;34m(self, X, k, strategy, best_combination)\u001b[0m\n\u001b[0;32m     58\u001b[0m         \"\"\" Takes a list of samples X. Returns a list of predicted labels for the samples.\n\u001b[0;32m     59\u001b[0m         The parameter best_combination ist just needed for 6ECTS.\"\"\"\n\u001b[1;32m---> 60\u001b[1;33m         \u001b[1;32mreturn\u001b[0m \u001b[1;33m[\u001b[0m\u001b[0mself\u001b[0m\u001b[1;33m.\u001b[0m\u001b[0mpredict_sample\u001b[0m\u001b[1;33m(\u001b[0m\u001b[0mx\u001b[0m\u001b[1;33m,\u001b[0m \u001b[0mk\u001b[0m\u001b[1;33m,\u001b[0m \u001b[0mstrategy\u001b[0m\u001b[1;33m)\u001b[0m \u001b[1;32mfor\u001b[0m \u001b[0mx\u001b[0m \u001b[1;32min\u001b[0m \u001b[0mX\u001b[0m\u001b[1;33m]\u001b[0m\u001b[1;33m\u001b[0m\u001b[1;33m\u001b[0m\u001b[0m\n\u001b[0m\u001b[0;32m     61\u001b[0m \u001b[1;33m\u001b[0m\u001b[0m\n\u001b[0;32m     62\u001b[0m     \u001b[1;32mdef\u001b[0m \u001b[0mpredict_sample\u001b[0m\u001b[1;33m(\u001b[0m\u001b[0mself\u001b[0m\u001b[1;33m,\u001b[0m \u001b[0mx\u001b[0m\u001b[1;33m,\u001b[0m \u001b[0mk\u001b[0m\u001b[1;33m=\u001b[0m\u001b[1;36m3\u001b[0m\u001b[1;33m,\u001b[0m \u001b[0mstrategy\u001b[0m\u001b[1;33m=\u001b[0m\u001b[1;34m'majority'\u001b[0m\u001b[1;33m)\u001b[0m\u001b[1;33m:\u001b[0m\u001b[1;33m\u001b[0m\u001b[1;33m\u001b[0m\u001b[0m\n",
      "\u001b[1;32m~\\AppData\\Local\\Temp\\ipykernel_10736\\3785515446.py\u001b[0m in \u001b[0;36m<listcomp>\u001b[1;34m(.0)\u001b[0m\n\u001b[0;32m     58\u001b[0m         \"\"\" Takes a list of samples X. Returns a list of predicted labels for the samples.\n\u001b[0;32m     59\u001b[0m         The parameter best_combination ist just needed for 6ECTS.\"\"\"\n\u001b[1;32m---> 60\u001b[1;33m         \u001b[1;32mreturn\u001b[0m \u001b[1;33m[\u001b[0m\u001b[0mself\u001b[0m\u001b[1;33m.\u001b[0m\u001b[0mpredict_sample\u001b[0m\u001b[1;33m(\u001b[0m\u001b[0mx\u001b[0m\u001b[1;33m,\u001b[0m \u001b[0mk\u001b[0m\u001b[1;33m,\u001b[0m \u001b[0mstrategy\u001b[0m\u001b[1;33m)\u001b[0m \u001b[1;32mfor\u001b[0m \u001b[0mx\u001b[0m \u001b[1;32min\u001b[0m \u001b[0mX\u001b[0m\u001b[1;33m]\u001b[0m\u001b[1;33m\u001b[0m\u001b[1;33m\u001b[0m\u001b[0m\n\u001b[0m\u001b[0;32m     61\u001b[0m \u001b[1;33m\u001b[0m\u001b[0m\n\u001b[0;32m     62\u001b[0m     \u001b[1;32mdef\u001b[0m \u001b[0mpredict_sample\u001b[0m\u001b[1;33m(\u001b[0m\u001b[0mself\u001b[0m\u001b[1;33m,\u001b[0m \u001b[0mx\u001b[0m\u001b[1;33m,\u001b[0m \u001b[0mk\u001b[0m\u001b[1;33m=\u001b[0m\u001b[1;36m3\u001b[0m\u001b[1;33m,\u001b[0m \u001b[0mstrategy\u001b[0m\u001b[1;33m=\u001b[0m\u001b[1;34m'majority'\u001b[0m\u001b[1;33m)\u001b[0m\u001b[1;33m:\u001b[0m\u001b[1;33m\u001b[0m\u001b[1;33m\u001b[0m\u001b[0m\n",
      "\u001b[1;32m~\\AppData\\Local\\Temp\\ipykernel_10736\\3785515446.py\u001b[0m in \u001b[0;36mpredict_sample\u001b[1;34m(self, x, k, strategy)\u001b[0m\n\u001b[0;32m     67\u001b[0m         \u001b[0mxNormilized\u001b[0m \u001b[1;33m=\u001b[0m \u001b[1;33m(\u001b[0m\u001b[0mx\u001b[0m\u001b[1;33m-\u001b[0m\u001b[0mself\u001b[0m\u001b[1;33m.\u001b[0m\u001b[0mdataMin\u001b[0m\u001b[1;33m)\u001b[0m\u001b[1;33m/\u001b[0m\u001b[1;33m(\u001b[0m\u001b[0mself\u001b[0m\u001b[1;33m.\u001b[0m\u001b[0mdataMax\u001b[0m\u001b[1;33m-\u001b[0m\u001b[0mself\u001b[0m\u001b[1;33m.\u001b[0m\u001b[0mdataMin\u001b[0m\u001b[1;33m)\u001b[0m\u001b[1;33m\u001b[0m\u001b[1;33m\u001b[0m\u001b[0m\n\u001b[0;32m     68\u001b[0m         \u001b[1;31m# für alle traing Data,  Abstand zwischen x und data berechnen, speichert in eine List für folgenden Fällen\u001b[0m\u001b[1;33m\u001b[0m\u001b[1;33m\u001b[0m\u001b[0m\n\u001b[1;32m---> 69\u001b[1;33m         \u001b[0mdistances\u001b[0m \u001b[1;33m=\u001b[0m \u001b[1;33m[\u001b[0m\u001b[1;33m(\u001b[0m\u001b[0mself\u001b[0m\u001b[1;33m.\u001b[0m\u001b[0mtrainingDataLabel\u001b[0m\u001b[1;33m[\u001b[0m\u001b[0mi\u001b[0m\u001b[1;33m]\u001b[0m\u001b[1;33m,\u001b[0m \u001b[0mself\u001b[0m\u001b[1;33m.\u001b[0m\u001b[0mdist_fun\u001b[0m\u001b[1;33m(\u001b[0m\u001b[0mself\u001b[0m\u001b[1;33m.\u001b[0m\u001b[0mtrainingDataWert\u001b[0m\u001b[1;33m[\u001b[0m\u001b[0mi\u001b[0m\u001b[1;33m]\u001b[0m\u001b[1;33m,\u001b[0m \u001b[0mxNormilized\u001b[0m\u001b[1;33m)\u001b[0m\u001b[1;33m)\u001b[0m \u001b[1;32mfor\u001b[0m \u001b[0mi\u001b[0m \u001b[1;32min\u001b[0m \u001b[0mrange\u001b[0m\u001b[1;33m(\u001b[0m\u001b[0mlen\u001b[0m\u001b[1;33m(\u001b[0m\u001b[0mself\u001b[0m\u001b[1;33m.\u001b[0m\u001b[0mtrainingDataWert\u001b[0m\u001b[1;33m)\u001b[0m\u001b[1;33m)\u001b[0m\u001b[1;33m]\u001b[0m\u001b[1;33m\u001b[0m\u001b[1;33m\u001b[0m\u001b[0m\n\u001b[0m\u001b[0;32m     70\u001b[0m         \u001b[0mprint\u001b[0m\u001b[1;33m(\u001b[0m\u001b[1;34m'distances'\u001b[0m\u001b[1;33m)\u001b[0m\u001b[1;33m\u001b[0m\u001b[1;33m\u001b[0m\u001b[0m\n\u001b[0;32m     71\u001b[0m         \u001b[0mprint\u001b[0m\u001b[1;33m(\u001b[0m\u001b[0mdistances\u001b[0m\u001b[1;33m)\u001b[0m\u001b[1;33m\u001b[0m\u001b[1;33m\u001b[0m\u001b[0m\n",
      "\u001b[1;31mTypeError\u001b[0m: object of type 'NoneType' has no len()"
     ]
    }
   ],
   "source": [
    "clf = KNN()\n",
    "clf.train(X_train, Y_train, ks=[1, 3, 5, 7])\n",
    "print(\"Best combination:\")\n",
    "print(\"k:\", clf.k)\n",
    "print(\"strategy:\", clf.strategy)\n",
    "print(\"-----------\")\n",
    "predictions = clf.predict(X_test, best_combination=True)\n",
    "labels, matrix = confusion_matrix(predictions, Y_test)\n",
    "print('Accuracy {}'.format(accuracy(predictions, Y_test)))\n",
    "print('Confusion matrix:')\n",
    "print('\\n'.join([str(row) for row in matrix]))"
   ]
  },
  {
   "cell_type": "code",
   "execution_count": null,
   "metadata": {},
   "outputs": [],
   "source": []
  },
  {
   "cell_type": "code",
   "execution_count": null,
   "metadata": {},
   "outputs": [],
   "source": []
  }
 ],
 "metadata": {
  "kernelspec": {
   "display_name": "Python 3 (ipykernel)",
   "language": "python",
   "name": "python3"
  },
  "language_info": {
   "codemirror_mode": {
    "name": "ipython",
    "version": 3
   },
   "file_extension": ".py",
   "mimetype": "text/x-python",
   "name": "python",
   "nbconvert_exporter": "python",
   "pygments_lexer": "ipython3",
   "version": "3.9.13"
  },
  "toc": {
   "base_numbering": 1,
   "nav_menu": {},
   "number_sections": true,
   "sideBar": true,
   "skip_h1_title": false,
   "title_cell": "Table of Contents",
   "title_sidebar": "Contents",
   "toc_cell": false,
   "toc_position": {},
   "toc_section_display": true,
   "toc_window_display": false
  }
 },
 "nbformat": 4,
 "nbformat_minor": 2
}
