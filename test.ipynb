{
 "cells": [
  {
   "cell_type": "code",
   "execution_count": 45,
   "id": "20ee11eb",
   "metadata": {},
   "outputs": [
    {
     "data": {
      "text/html": [
       "<style>.container { width:85% !important; }</style>"
      ],
      "text/plain": [
       "<IPython.core.display.HTML object>"
      ]
     },
     "metadata": {},
     "output_type": "display_data"
    }
   ],
   "source": [
    "from IPython.display import display, HTML\n",
    "display(HTML(\"<style>.container { width:85% !important; }</style>\"))"
   ]
  },
  {
   "cell_type": "code",
   "execution_count": 1,
   "id": "2f047ded",
   "metadata": {},
   "outputs": [
    {
     "data": {
      "application/javascript": [
       "\n",
       "            setTimeout(function() {\n",
       "                var nbb_cell_id = 1;\n",
       "                var nbb_unformatted_code = \"%load_ext nb_black\";\n",
       "                var nbb_formatted_code = \"%load_ext nb_black\";\n",
       "                var nbb_cells = Jupyter.notebook.get_cells();\n",
       "                for (var i = 0; i < nbb_cells.length; ++i) {\n",
       "                    if (nbb_cells[i].input_prompt_number == nbb_cell_id) {\n",
       "                        if (nbb_cells[i].get_text() == nbb_unformatted_code) {\n",
       "                             nbb_cells[i].set_text(nbb_formatted_code);\n",
       "                        }\n",
       "                        break;\n",
       "                    }\n",
       "                }\n",
       "            }, 500);\n",
       "            "
      ],
      "text/plain": [
       "<IPython.core.display.Javascript object>"
      ]
     },
     "metadata": {},
     "output_type": "display_data"
    }
   ],
   "source": [
    "%load_ext nb_black"
   ]
  },
  {
   "cell_type": "code",
   "execution_count": 2,
   "id": "7a6cb42f",
   "metadata": {},
   "outputs": [
    {
     "data": {
      "text/plain": [
       "Index(['handicapped-infants', 'water-project-cost-sharing',\n",
       "       'adoption-of-the-budget-resolution', 'physician-fee-freeze',\n",
       "       'el-salvador-aid', 'religious-groups-in-schools',\n",
       "       'anti-satellite-test-ban', 'aid-to-nicaraguan-contras', 'mx-missile',\n",
       "       'immigration', 'synfuels-corporation-cutback', 'education-spending',\n",
       "       'superfund-right-to-sue', 'crime', 'duty-free-exports',\n",
       "       'export-administration-act-south-africa'],\n",
       "      dtype='object')"
      ]
     },
     "execution_count": 2,
     "metadata": {},
     "output_type": "execute_result"
    },
    {
     "data": {
      "application/javascript": [
       "\n",
       "            setTimeout(function() {\n",
       "                var nbb_cell_id = 2;\n",
       "                var nbb_unformatted_code = \"import pandas as pd\\nimport numpy as np\\nfrom numpy import log2\\ndf = pd.read_csv('house-votes-84-with-header.csv')\\ndf\\ndf.keys()[1:]\";\n",
       "                var nbb_formatted_code = \"import pandas as pd\\nimport numpy as np\\nfrom numpy import log2\\n\\ndf = pd.read_csv(\\\"house-votes-84-with-header.csv\\\")\\ndf\\ndf.keys()[1:]\";\n",
       "                var nbb_cells = Jupyter.notebook.get_cells();\n",
       "                for (var i = 0; i < nbb_cells.length; ++i) {\n",
       "                    if (nbb_cells[i].input_prompt_number == nbb_cell_id) {\n",
       "                        if (nbb_cells[i].get_text() == nbb_unformatted_code) {\n",
       "                             nbb_cells[i].set_text(nbb_formatted_code);\n",
       "                        }\n",
       "                        break;\n",
       "                    }\n",
       "                }\n",
       "            }, 500);\n",
       "            "
      ],
      "text/plain": [
       "<IPython.core.display.Javascript object>"
      ]
     },
     "metadata": {},
     "output_type": "display_data"
    }
   ],
   "source": [
    "import pandas as pd\n",
    "import numpy as np\n",
    "from numpy import log2\n",
    "\n",
    "df = pd.read_csv(\"house-votes-84-with-header.csv\")\n",
    "df\n",
    "df.keys()[1:]"
   ]
  },
  {
   "cell_type": "code",
   "execution_count": 3,
   "id": "7738bd64",
   "metadata": {},
   "outputs": [
    {
     "ename": "NameError",
     "evalue": "name 'Class' is not defined",
     "output_type": "error",
     "traceback": [
      "\u001b[1;31m---------------------------------------------------------------------------\u001b[0m",
      "\u001b[1;31mNameError\u001b[0m                                 Traceback (most recent call last)",
      "\u001b[1;32m~\\AppData\\Local\\Temp\\ipykernel_27212\\560370804.py\u001b[0m in \u001b[0;36m<cell line: 1>\u001b[1;34m()\u001b[0m\n\u001b[1;32m----> 1\u001b[1;33m \u001b[0mlen\u001b[0m\u001b[1;33m(\u001b[0m\u001b[0mdf\u001b[0m\u001b[1;33m[\u001b[0m\u001b[0mClass\u001b[0m\u001b[1;33m]\u001b[0m\u001b[1;33m)\u001b[0m\u001b[1;33m\u001b[0m\u001b[1;33m\u001b[0m\u001b[0m\n\u001b[0m",
      "\u001b[1;31mNameError\u001b[0m: name 'Class' is not defined"
     ]
    },
    {
     "data": {
      "application/javascript": [
       "\n",
       "            setTimeout(function() {\n",
       "                var nbb_cell_id = 3;\n",
       "                var nbb_unformatted_code = \"len(df[Class])\";\n",
       "                var nbb_formatted_code = \"len(df[Class])\";\n",
       "                var nbb_cells = Jupyter.notebook.get_cells();\n",
       "                for (var i = 0; i < nbb_cells.length; ++i) {\n",
       "                    if (nbb_cells[i].input_prompt_number == nbb_cell_id) {\n",
       "                        if (nbb_cells[i].get_text() == nbb_unformatted_code) {\n",
       "                             nbb_cells[i].set_text(nbb_formatted_code);\n",
       "                        }\n",
       "                        break;\n",
       "                    }\n",
       "                }\n",
       "            }, 500);\n",
       "            "
      ],
      "text/plain": [
       "<IPython.core.display.Javascript object>"
      ]
     },
     "metadata": {},
     "output_type": "display_data"
    }
   ],
   "source": [
    "len(df[Class])"
   ]
  },
  {
   "cell_type": "code",
   "execution_count": 48,
   "id": "28a07e18",
   "metadata": {},
   "outputs": [
    {
     "data": {
      "text/plain": [
       "array(['republican', 'democrat'], dtype=object)"
      ]
     },
     "execution_count": 48,
     "metadata": {},
     "output_type": "execute_result"
    }
   ],
   "source": [
    "target_variables = df[Class].unique()\n",
    "target_variables"
   ]
  },
  {
   "cell_type": "code",
   "execution_count": 49,
   "id": "0f9145b8",
   "metadata": {},
   "outputs": [
    {
     "data": {
      "text/plain": [
       "['?', 'n', 'y']"
      ]
     },
     "execution_count": 49,
     "metadata": {},
     "output_type": "execute_result"
    }
   ],
   "source": [
    "variables = df['handicapped-infants'].unique()\n",
    "sorted(variables)"
   ]
  },
  {
   "cell_type": "code",
   "execution_count": 64,
   "id": "d648e150",
   "metadata": {},
   "outputs": [],
   "source": [
    "def probability_with_unknow_in_dict(df,attribute):\n",
    "    Class = df.keys()[0]  # To make the code generic, changing target choice class name\n",
    "    parteien = df[Class].unique()  # 'republican' and 'democrat'\n",
    "    choices = df[attribute].unique()  # ['n', '?', 'y']\n",
    "\n",
    "    #für alle variale die Nummer zählen:\n",
    "    dictValues = {}\n",
    "    for choice in choices:  # ['n', '?', 'y']\n",
    "        for partei in parteien:\n",
    "            num = len(df[attribute][df[attribute] == choice][df[Class] == partei])\n",
    "            dictValues[choice+partei] = num\n",
    "            \n",
    "    # ratio für yes und no zählen\n",
    "    for choice in choices:\n",
    "        if choice == '?':\n",
    "                continue\n",
    "        rationZaeler = 0\n",
    "        for partei in parteien:\n",
    "            rationZaeler = rationZaeler + dictValues[choice+partei]\n",
    "        dictValues[choice + 'ration'] = rationZaeler /len(df[Class])\n",
    "\n",
    "    dictValuesWithUnknow = {}\n",
    "    for choice in choices:\n",
    "        if choice == '?':\n",
    "                continue\n",
    "        for partei in parteien:\n",
    "            num = dictValues[choice+partei] + dictValues['?'+partei] * dictValues[choice+'ration']\n",
    "            dictValuesWithUnknow[choice+partei] = num\n",
    "    print(dictValuesWithUnknow)\n",
    "    return dictValuesWithUnknow"
   ]
  },
  {
   "cell_type": "code",
   "execution_count": 65,
   "id": "ca58a79b",
   "metadata": {},
   "outputs": [
    {
     "name": "stdout",
     "output_type": "stream",
     "text": [
      "{'yrepublican': 150.25057471264367, 'ydemocrat': 128.62758620689655, 'nrepublican': 17.698850574712644, 'ndemocrat': 138.1448275862069}\n"
     ]
    },
    {
     "data": {
      "text/plain": [
       "{'yrepublican': 150.25057471264367,\n",
       " 'ydemocrat': 128.62758620689655,\n",
       " 'nrepublican': 17.698850574712644,\n",
       " 'ndemocrat': 138.1448275862069}"
      ]
     },
     "execution_count": 65,
     "metadata": {},
     "output_type": "execute_result"
    }
   ],
   "source": [
    "probability_with_unknow_in_dict(df, 'religious-groups-in-schools')"
   ]
  },
  {
   "cell_type": "code",
   "execution_count": 68,
   "id": "42d5c06d",
   "metadata": {},
   "outputs": [],
   "source": [
    "def find_entropy(df):\n",
    "    # df.keys(): attributs name of df\n",
    "    # -1 play\n",
    "    Class = df.keys()[0]  \n",
    "    entropy = 0\n",
    "    patien = df[Class].unique()\n",
    "    for patei in patien:\n",
    "        fraction = df[Class].value_counts()[patei] / len(df[Class])\n",
    "        entropy += -fraction * np.log2(fraction)\n",
    "    return entropy"
   ]
  },
  {
   "cell_type": "code",
   "execution_count": 69,
   "id": "94dc12fe",
   "metadata": {},
   "outputs": [
    {
     "data": {
      "text/plain": [
       "0.9623080486960709"
      ]
     },
     "execution_count": 69,
     "metadata": {},
     "output_type": "execute_result"
    }
   ],
   "source": [
    "find_entropy(df)"
   ]
  },
  {
   "cell_type": "code",
   "execution_count": 74,
   "id": "dd7e864a",
   "metadata": {},
   "outputs": [],
   "source": [
    "\n",
    "\n",
    "def get_subtable( data, node, value):\n",
    "    # potion of csv.file and need subtable\n",
    "    # node: attribute, value of the attribute\n",
    "    df_value = df.loc[df[node] == value]\n",
    "    return df_value\n",
    "    \n"
   ]
  },
  {
   "cell_type": "code",
   "execution_count": 75,
   "id": "b9fe124a",
   "metadata": {},
   "outputs": [
    {
     "name": "stdout",
     "output_type": "stream",
     "text": [
      "Index(['handicapped-infants', 'water-project-cost-sharing',\n",
      "       'adoption-of-the-budget-resolution', 'physician-fee-freeze',\n",
      "       'el-salvador-aid', 'religious-groups-in-schools',\n",
      "       'anti-satellite-test-ban', 'aid-to-nicaraguan-contras', 'mx-missile',\n",
      "       'immigration', 'synfuels-corporation-cutback', 'education-spending',\n",
      "       'superfund-right-to-sue', 'crime', 'duty-free-exports',\n",
      "       'export-administration-act-south-africa'],\n",
      "      dtype='object')\n",
      "[0.1611616312298232, 0.16114631740035956, 0.4555174537007517, 0.7451525161994801, 0.45319637072578467, 0.1770741652081359, 0.23714629128559372, 0.36039765772666565, 0.3593054074627774, 0.028192551732067583, 0.1711986652648836, 0.44633342745587434, 0.29656322568575133, 0.36982542626338144, 0.29618236987503666, 0.3963689722275242]\n"
     ]
    },
    {
     "data": {
      "text/plain": [
       "'physician-fee-freeze'"
      ]
     },
     "execution_count": 75,
     "metadata": {},
     "output_type": "execute_result"
    }
   ],
   "source": [
    "find_winner(df)"
   ]
  },
  {
   "cell_type": "code",
   "execution_count": 7,
   "id": "95b30ca5",
   "metadata": {},
   "outputs": [
    {
     "data": {
      "text/plain": [
       "['?', 'n', 'y']"
      ]
     },
     "execution_count": 7,
     "metadata": {},
     "output_type": "execute_result"
    }
   ],
   "source": [
    "import random\n",
    "l = ['?', 'n', 'y']\n",
    "random.shuffle(l)\n",
    "l"
   ]
  },
  {
   "cell_type": "code",
   "execution_count": 1,
   "id": "b42147a2",
   "metadata": {},
   "outputs": [
    {
     "name": "stdout",
     "output_type": "stream",
     "text": [
      "Available Themes: \n",
      "   chesterish\n",
      "   grade3\n",
      "   gruvboxd\n",
      "   gruvboxl\n",
      "   monokai\n",
      "   oceans16\n",
      "   onedork\n",
      "   solarizedd\n",
      "   solarizedl\n"
     ]
    }
   ],
   "source": [
    "!jt -l\n"
   ]
  },
  {
   "cell_type": "code",
   "execution_count": 4,
   "id": "10e05a60",
   "metadata": {},
   "outputs": [],
   "source": [
    "!jt -t monokai"
   ]
  },
  {
   "cell_type": "code",
   "execution_count": null,
   "id": "b5f1c985",
   "metadata": {},
   "outputs": [],
   "source": []
  }
 ],
 "metadata": {
  "kernelspec": {
   "display_name": "Python 3 (ipykernel)",
   "language": "python",
   "name": "python3"
  },
  "language_info": {
   "codemirror_mode": {
    "name": "ipython",
    "version": 3
   },
   "file_extension": ".py",
   "mimetype": "text/x-python",
   "name": "python",
   "nbconvert_exporter": "python",
   "pygments_lexer": "ipython3",
   "version": "3.9.13"
  },
  "toc": {
   "base_numbering": 1,
   "nav_menu": {},
   "number_sections": true,
   "sideBar": true,
   "skip_h1_title": false,
   "title_cell": "Table of Contents",
   "title_sidebar": "Contents",
   "toc_cell": false,
   "toc_position": {},
   "toc_section_display": true,
   "toc_window_display": false
  }
 },
 "nbformat": 4,
 "nbformat_minor": 5
}
