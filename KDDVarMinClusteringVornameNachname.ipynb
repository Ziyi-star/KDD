{
 "cells": [
  {
   "cell_type": "markdown",
   "metadata": {},
   "source": [
    "# Clustering durch Varianzminimierung\n",
    "Implementieren Sie den Algorithmus *Clustering durch Varianzminimierung* innerhalb des jupyter-Notebooks. Nutzen Sie dafür das gegebene Grundgerüst und beachten Sie die folgenden Anforderungen:\n",
    "- Die initiale Clusterung soll auf folgende Art geschehen: Die ersten $k$ Elemente des Datensatzes werden auf die $k$ Cluster verteilt.\n",
    "Die restlichen Datenpunkte sollen zufällig den Clustern zugeordnet werden. Dann werden die initialen Zentroide berechnet.\n",
    "- Als Distanzfunktion nutzen Sie bitte die Manhattan-Distanz.\n",
    "- In jedem Iterationsschritt soll der Algorithmus über alle Instanzen gehen und jede Instanz dem nächsten Centroid zuweisen. Nachdem alle Instanzen zugeordnet wurden, sollen die Zentroide neu berechnet werden.\n",
    "- Es gibt zwei Abbruchbedingungen:\n",
    "    1. Eine maximale Anzahl von Iterationen darf nicht überschritten werden.\n",
    "    2. Unterschreitet die Änderung des Wertes\n",
    "        $${TD}^2(\\mathcal{C}) := \\sum_{i=1}^{k}{{TD}^2(C_i)} \\quad\\text{mit}\\quad {TD}^2(C_i) = \\sum_{p \\in C_i}{{dist}^2(p, \\mu_{C_i})}$$\n",
    "    zwischen zwei Iterationen ein gegebenes Minimum, dann wird keine neue Iteration mehr durchgeführt.\n",
    "    \n",
    "  Die entsprechenden Grenzen werden als Parameter übergeben. Der Wert ${TD}^2(\\mathcal{C})$ misst den Abstand aller Punkte zu ihren jeweiligen Centroiden $\\mu_{C_i}$ und ist ein Maß für die Kompaktheit des Clusterings.\n",
    "- Die Modellierung der Centroide erfolgt in der Klasse *Cluster* als Liste numerischer Werte.\n",
    "- Die Klassen können um weitere Methoden ergänzt werden.\n",
    "- Sie dürfen die Pakete numpy und random für Ihre Implementierung nutzen. Außerdem werden für die Tests die Pakete pandas und matplotlib genutzt. Verwenden Sie keine weiteren Pakete für Ihre Implementierung.\n",
    "- Beim Test auf einem geeigneten Datensatz soll ein sinnvolles Clustering entstehen.\n",
    "- Mit Hilfe des *print*-Kommandos werden Zwischenergebnisse jeder Clustering-Iteration sinnvoll geloggt.\n",
    "- Ihr Programmcode sollte sinnvoll kommentiert sein und sinnvolle Variablennamen verwenden.\n",
    "- *Hinweis*: Stellen Sie sicher, dass der Algorithmus bei jeder Ausführung ohne Fehler funktioniert. \n",
    "\n",
    "Überlegen Sie sich, warum das nur unter Berücksichtigung des Grundalgorithmus aus der Vorlesung auch mit den selben Parameterwerten nicht jedes mal der Fall sein muss und wie Sie dagegen vorgehen können.\n",
    "\n",
    "- Ihre Implementierung können Sie bis zum 28.11.2022 23:59 im Moodle abgeben.\n",
    "Sollten Sie Fragen zu den Aufgaben haben, wenden Sie sich bitte persönlich oder per E-Mail an [Maximilian Stubbemann](mailto:stubbemann@cs.uni-kassel.de).\n",
    "\n",
    "## Zusatzaufgabe für 6 ECTS:\n",
    "**Hinweis**: Bearbeiten Sie diese Aufgabe nur, falls Sie am Praktikum für 6 ECTS-Punkte teilnehmen, jedoch nicht, falls Sie am Praktikum für 3 ECTS-Punkte teilnehmen.\n",
    "\n",
    "Das Ziel des folgenden Algorithmus ist es, das Clustering durch Varianzminimierung zu verbessern, indem bessere Startcluster gewählt werden. Der Algorithmus geht dabei wie folgt vor:\n",
    "1. Es wird ein Datenpunkt zufällig (gleichverteilt) als erster Zentrumspunkt gewählt.\n",
    "2. Für jeden Datenpunkt $x$, welcher noch kein Zentroid ist, wird $D(x)$ als die Distanz zwischen x und dem nähesten Zentrumspunkt zu $x$ berechnet.\n",
    "3. Es wird ein weiterer Zentrumspunkt mit einer gewichteten Wahrscheinlickeitsverteilung gewählt, wobei der Punkt $x$ mit einer Wahrscheinlichkeit proportional zu $D(x)^2$ gewählt wird.\n",
    "4. Die Schritte 2 und 3 werden wiederholt, bis $k$ Zentrumspunkte gewählt wurden.\n",
    "5. Mit den $k$ Zentrumspunkte als Startpunkten wird dann ein Clustering durch Varianzminimierung durchgeführt.\n",
    "\n",
    "Modifizieren Sie Ihren Code so, dass beim Aufruf durch einen Parameter **init** ausgewählt werden kann, ob der optimierte Initialisierungsalgorithmus verwendet werden soll.\n",
    "\n",
    "## Tipps:\n",
    "- Zum Debugging kann es hilfreich sein, sich während der Implementierung einzelne Variablenwerte ausgeben zu lassen, insbesondere wenn Sie sich nicht sicher sind, welchen Variablentypen oder Wert Ihre Variable hat oder wenn für Sie unerklärliche Fehler auftreten. Entweder verwenden Sie zur Ausgabe einfach das *print*-Kommando oder erstellen eine Zelle, in die Sie den Variablennamen als letzte Anweisung schreiben und ausführen.\n",
    "- Neben dem Ausprobieren verschiedener Parameterwerte um ein besseres Verständnis für den Algorithmus zu bekommen, kann es auch sinnvoll sein, Ihre Implementierung mehrfach mit den selben Werten auszuführen.\n",
    "- Sie können (müssen aber nicht) einfache numpy-Operationen verwenden. Vektoren als Methodenparameter, Rückgabewerte oder Klasseneigenschaften sollen aber als normale Python-Listen dargestellt werden, *nicht* als numpy-Arrays. Aus dem Code und bei der Vorstellung Ihrer Implementierung sollte außerdem ersichtlich sein, dass Sie selbst die Berechnungen per Hand durchführen könnten. Dies gilt insbesondere für das Distanzmaß. \n",
    "- Jeglicher Python-Code im Jupyter-Notebook wird in der Reihenfolge ausgeführt, in der die Zellen ausgeführt wurden. Alle zugewiesenen Namen (z. Bsp. für Variablen, Funktionen und Klassen) bleiben im Speicher erhalten, sofern Sie nicht überschrieben wurden. Um einen *frischen* Zustand zu erhalten, in dem noch kein Code ausgeführt wurde, gehen Sie auf *Kernel -> Restart & Clear Output*. Falls für Sie unerklärliche Fehler auftreten oder Fehler, die Sie glauben schon behoben zu haben, kann ein Kernel Restart oft Erkenntnisse liefern. In vielen Fällen greifen Sie noch auf Programmcode zu, den Sie bereits aus den Zellen gelöscht haben. Stellen Sie vor der Abgabe sicher, dass Ihr Notebook auch in der Reihenfolge der Zellen von oben nach unten ohne Fehler durchläuft (Kernel -> Restart & Run All)."
   ]
  },
  {
   "cell_type": "markdown",
   "metadata": {},
   "source": [
    "# Implementierung"
   ]
  },
  {
   "cell_type": "code",
<<<<<<< HEAD
   "execution_count": 192,
=======
   "execution_count": 177,
>>>>>>> main
   "metadata": {},
   "outputs": [],
   "source": [
    "import numpy as np\n",
    "import random\n",
    "\n",
    "def manhattan_dist(x, y):\n",
    "    \"\"\" Returns the manhattan distance between vectors x and y.\n",
    "    A vector is represented as a list of numeric values. \"\"\"\n",
    "    assert(len(x) == len(y))\n",
    "    \n",
    "    # Ansatz: zip gibt eine List von 2 Elemente\n",
    "    distance = 0\n",
    "    for x_i,y_i in zip(x,y):\n",
    "        distance += abs(x_i - y_i)\n",
    "    return distance\n",
    "   \n",
    "\n",
    "class VarMinClusterer():\n",
    "    def __init__(self, dist_fun=manhattan_dist):\n",
    "        self.dist_fun = dist_fun\n",
    "        self.clusters = []\n",
    "    \n",
    "    def cluster(self,\n",
    "                X,\n",
    "                k=3,\n",
    "                max_iterations=20,\n",
    "                min_compactness_diff=0.05,\n",
    "                init=False):\n",
    "        \"\"\" Cluster the given data X.\n",
    "        Takes a list of samples X where each sample is a list of numeric values.\n",
    "        The parameter init determines, whether the optimized initialization procedure\n",
    "        shoud be used. If you are doing the task for 3 ECTS, this parameter should not\n",
    "        affect your code at all.\"\"\"\n",
    "        \n",
    "        # Basic parameter validation.\n",
    "        assert(len(X) > 0)\n",
    "        assert(len(X) >= k)\n",
    "        assert(max_iterations > 0)\n",
    "        \n",
    "        self.clusters = [Cluster() for i in range(k)]\n",
    "        \n",
    "        #1. Aufgabe ohne Optimierung\n",
    "        if init == False:\n",
    "        #initial\n",
    "            #1.erste k punte in jeweilige Cluster zuordnen\n",
    "            for i in range(k):\n",
    "                self.clusters[i].centroid = X[i]\n",
    "                self.clusters[i].elements.append(X[i])\n",
    "            #2.Die restlichen Datenpunkte sollen zufällig den Clustern zugeordnet werden. \n",
    "            for i in range(k-1,len(X)):\n",
    "                randomNumber = random.randint(0,k-1)\n",
    "                self.clusters[randomNumber].elements.append(X[i])\n",
    "                \n",
    "        #berechen Algothmus von Vorlesung\n",
    "        #while Schleife:\n",
    "        #μC0 = μC;\n",
    "        #erzeuge C = {C1, . . . , Ck} // jeder Punkt wird dabei dem nächsten Centroiden aus μC0 zugeordnet\n",
    "        #todo: jede Punkte in Cluster , berechnen mal die manhattan_dist, und dann nach die Ausgabe, werden der Punkte zu der Kleinste Wert geordnet.\n",
    "        \n",
    "        #berechne μC = {μC1, . . . ,μCk } // Centroide für C until μC = μC0'\n",
    "        \n",
    "        #2. Zusatz Aufgabe mit Optimierung:init true\n",
    "        #else:\n",
    "\n",
    "        #2.\n",
    "        #wozu brauchen wir die zwei andere Variable beim Parameter\n",
    "        if init == True:\n",
    "            #1. Es wird ein Datenpunkt zufällig (gleichverteilt) als erster Zentrumspunkt gewählt.\n",
    "            # ein Median wird ausgewählt\n",
    "            centroidListIndex = []\n",
    "            centroidMedian = []\n",
    "            XNew = X.copy()\n",
<<<<<<< HEAD
    "            randomNumber = random.randint(0,len(X))\n",
    "            self.clusters[k-1].centroid = X[randomNumber]\n",
    "            self.clusters[k-1].elements.append(X[randomNumber])\n",
    "            XNew.pop(randomNumber)\n",
    "            centroidListIndex.append(randomNumber)\n",
    "            k -= 1\n",
=======
    "            XNewNP = np.array(XNew)\n",
    "            median = np.median(XNewNP, axis=0)\n",
    "            print(median)\n",
    "            distanceCentroidPunct = []      \n",
    "            for i in range(len(XNew)):\n",
    "                if (median != XNew[i]).any():\n",
    "                    distanceCentroidPunctElementQuadrat = manhattan_dist(median,XNew[i]) **2\n",
    "                    distanceCentroidPunct.append(distanceCentroidPunctElementQuadrat)\n",
    "                else:\n",
    "                    self.clusters[k-1].centroid = XNew[i]\n",
    "                    centroidListIndex.append(i)\n",
    "                    XNew.pop(i)\n",
    "                    k -= 1\n",
    "                    break\n",
    "            \n",
    "            if self.clusters[k-1].centroid == []:\n",
    "                for i in range(len(XNew)):\n",
    "                        if distanceCentroidPunct[i] == min(distanceCentroidPunct):\n",
    "                            self.clusters[k-1].centroid = XNew[i]\n",
    "                            centroidListIndex.append(i)\n",
    "                            XNew.pop(i)\n",
    "                            k -= 1\n",
    "                            break\n",
>>>>>>> main
    "            #Für jeden Datenpunkt 𝑥, welcher noch kein Zentroid ist, \n",
    "            #wird 𝐷(𝑥) als die Distanz zwischen x und dem nähesten Zentrumspunkt zu 𝑥 berechnet.\n",
    "            while k != 0:\n",
    "                distanceCentroidPunct = []\n",
    "                for i in range(len(XNew)):\n",
    "                    distanceCentroidPunctElementQuadrat = manhattan_dist(self.clusters[k-1].centroid,XNew[i]) **2\n",
    "                    distanceCentroidPunct.append(distanceCentroidPunctElementQuadrat)\n",
    "    #Es wird ein weiterer Zentrumspunkt mit einer gewichteten Wahrscheinlickeitsverteilung gewählt, \n",
    "    #wobei der Punkt 𝑥 mit einer Wahrscheinlichkeit proportional zu 𝐷(𝑥)2 gewählt wird.     \n",
    "                for i in range(len(XNew)):\n",
    "                    if distanceCentroidPunct[i] == max(distanceCentroidPunct):\n",
    "                        #print(\"max:\" + str(max(distanceCentroidPunct))\n",
    "                        self.clusters[k-1].centroid = XNew[i]\n",
    "                        self.clusters[k-1].elements.append(XNew[i])\n",
    "                        centroidListIndex.append(i)\n",
    "                        XNew.pop(i)\n",
    "                        k -= 1\n",
    "                        break\n",
    "            #elements in Cluster zu ordnen mit Zufall\n",
    "            print(centroidListIndex)\n",
    "            for i in range(len(XNew)):\n",
    "                randomNumber = random.randint(0,2)\n",
    "                #if the element is not the current center\n",
    "                self.clusters[randomNumber].elements.append(XNew[i])\n",
    "    \n",
    "        return self.clusters\n",
    "\n",
    "class Cluster():\n",
    "    def __init__(self):\n",
    "        self.elements = []\n",
    "        self.centroid = []\n",
    "    \n",
    "    def compactness(self, dist_fun=manhattan_dist):\n",
    "        # TODO\n",
    "        # wozu brauchen wir diese Methode\n",
    "        #Die entsprechenden Grenzen werden als Parameter übergeben. \n",
    "        #Der Wert  𝑇𝐷2()  misst den Abstand aller Punkte zu ihren jeweiligen Centroiden  𝜇𝐶𝑖  \n",
    "        #und ist ein Maß für die Kompaktheit des Clusterings.\n",
    "        return \n",
    "    \n",
    "    def getCentroide(self,dist_fun=manhattan_dist):\n",
    "        \n",
    "        return\n"
   ]
  },
  {
   "cell_type": "markdown",
   "metadata": {},
   "source": [
    "# Ausführung des Clusterings\n",
    "Hier kann der implementierte Algorithmus getestet werden. Bitte an den vorhandenen Zellen nichts ändern. Sie können aber weitere Zellen mit eigenem Code hinzufügen oder andere Parameterwerte ausprobieren (die Sie in der Abgabe dann wieder auf die ursprünglichen Werte ändern).\n",
    "\n",
    "Um den Code auszuführen, müssen die Bibliotheken *pandas*, *matplotlib* und eventuell weitere Abhängigkeiten installiert sein. Diese sind in der Anaconda-Distribution bereits enthalten."
   ]
  },
  {
   "cell_type": "code",
<<<<<<< HEAD
   "execution_count": 193,
=======
   "execution_count": 178,
>>>>>>> main
   "metadata": {},
   "outputs": [
    {
     "data": {
      "text/html": [
       "<div>\n",
       "<style scoped>\n",
       "    .dataframe tbody tr th:only-of-type {\n",
       "        vertical-align: middle;\n",
       "    }\n",
       "\n",
       "    .dataframe tbody tr th {\n",
       "        vertical-align: top;\n",
       "    }\n",
       "\n",
       "    .dataframe thead th {\n",
       "        text-align: right;\n",
       "    }\n",
       "</style>\n",
       "<table border=\"1\" class=\"dataframe\">\n",
       "  <thead>\n",
       "    <tr style=\"text-align: right;\">\n",
       "      <th></th>\n",
       "      <th>sepal_length</th>\n",
       "      <th>sepal_width</th>\n",
       "      <th>petal_length</th>\n",
       "      <th>petal_width</th>\n",
       "    </tr>\n",
       "  </thead>\n",
       "  <tbody>\n",
       "    <tr>\n",
       "      <th>0</th>\n",
       "      <td>5.1</td>\n",
       "      <td>3.5</td>\n",
       "      <td>1.4</td>\n",
       "      <td>0.2</td>\n",
       "    </tr>\n",
       "    <tr>\n",
       "      <th>1</th>\n",
       "      <td>4.9</td>\n",
       "      <td>3.0</td>\n",
       "      <td>1.4</td>\n",
       "      <td>0.2</td>\n",
       "    </tr>\n",
       "    <tr>\n",
       "      <th>2</th>\n",
       "      <td>4.7</td>\n",
       "      <td>3.2</td>\n",
       "      <td>1.3</td>\n",
       "      <td>0.2</td>\n",
       "    </tr>\n",
       "    <tr>\n",
       "      <th>3</th>\n",
       "      <td>4.6</td>\n",
       "      <td>3.1</td>\n",
       "      <td>1.5</td>\n",
       "      <td>0.2</td>\n",
       "    </tr>\n",
       "    <tr>\n",
       "      <th>4</th>\n",
       "      <td>5.0</td>\n",
       "      <td>3.6</td>\n",
       "      <td>1.4</td>\n",
       "      <td>0.2</td>\n",
       "    </tr>\n",
       "    <tr>\n",
       "      <th>...</th>\n",
       "      <td>...</td>\n",
       "      <td>...</td>\n",
       "      <td>...</td>\n",
       "      <td>...</td>\n",
       "    </tr>\n",
       "    <tr>\n",
       "      <th>145</th>\n",
       "      <td>6.7</td>\n",
       "      <td>3.0</td>\n",
       "      <td>5.2</td>\n",
       "      <td>2.3</td>\n",
       "    </tr>\n",
       "    <tr>\n",
       "      <th>146</th>\n",
       "      <td>6.3</td>\n",
       "      <td>2.5</td>\n",
       "      <td>5.0</td>\n",
       "      <td>1.9</td>\n",
       "    </tr>\n",
       "    <tr>\n",
       "      <th>147</th>\n",
       "      <td>6.5</td>\n",
       "      <td>3.0</td>\n",
       "      <td>5.2</td>\n",
       "      <td>2.0</td>\n",
       "    </tr>\n",
       "    <tr>\n",
       "      <th>148</th>\n",
       "      <td>6.2</td>\n",
       "      <td>3.4</td>\n",
       "      <td>5.4</td>\n",
       "      <td>2.3</td>\n",
       "    </tr>\n",
       "    <tr>\n",
       "      <th>149</th>\n",
       "      <td>5.9</td>\n",
       "      <td>3.0</td>\n",
       "      <td>5.1</td>\n",
       "      <td>1.8</td>\n",
       "    </tr>\n",
       "  </tbody>\n",
       "</table>\n",
       "<p>150 rows × 4 columns</p>\n",
       "</div>"
      ],
      "text/plain": [
       "     sepal_length  sepal_width  petal_length  petal_width\n",
       "0             5.1          3.5           1.4          0.2\n",
       "1             4.9          3.0           1.4          0.2\n",
       "2             4.7          3.2           1.3          0.2\n",
       "3             4.6          3.1           1.5          0.2\n",
       "4             5.0          3.6           1.4          0.2\n",
       "..            ...          ...           ...          ...\n",
       "145           6.7          3.0           5.2          2.3\n",
       "146           6.3          2.5           5.0          1.9\n",
       "147           6.5          3.0           5.2          2.0\n",
       "148           6.2          3.4           5.4          2.3\n",
       "149           5.9          3.0           5.1          1.8\n",
       "\n",
       "[150 rows x 4 columns]"
      ]
     },
<<<<<<< HEAD
     "execution_count": 193,
=======
     "execution_count": 178,
>>>>>>> main
     "metadata": {},
     "output_type": "execute_result"
    }
   ],
   "source": [
    "# Load the iris-dataset. Remove the class-attribute.\n",
    "import pandas as pd\n",
    "data = pd.read_csv('iris.csv')\n",
    "del data['species']\n",
    "data"
   ]
  },
  {
   "cell_type": "code",
<<<<<<< HEAD
   "execution_count": 194,
=======
   "execution_count": 179,
>>>>>>> main
   "metadata": {},
   "outputs": [],
   "source": [
    "def plot_clustering(clusters, x_dim=0, y_dim=3):\n",
    "    \"\"\" Show a scatterplot of the given clusters and contained data-points.\n",
    "    Points from the same cluster will have the same color.\n",
    "    \"\"\"\n",
    "    import matplotlib.pyplot as plt\n",
    "    \n",
    "    plt.figure()\n",
    "    for cluster in clusters:\n",
    "        elems = np.array(cluster.elements)\n",
    "        plt.scatter(elems[:,x_dim], elems[:,y_dim])\n",
    "        ctr = cluster.centroid\n",
    "        plt.plot(ctr[x_dim], ctr[y_dim], 'X', c='black')\n",
    "    plt.show()"
   ]
  },
  {
   "cell_type": "code",
<<<<<<< HEAD
   "execution_count": 195,
=======
   "execution_count": 180,
>>>>>>> main
   "metadata": {},
   "outputs": [
    {
     "name": "stdout",
     "output_type": "stream",
     "text": [
      "[[5.1, 3.5, 1.4, 0.2], [4.9, 3.0, 1.4, 0.2], [4.7, 3.2, 1.3, 0.2], [4.6, 3.1, 1.5, 0.2], [5.0, 3.6, 1.4, 0.2], [5.4, 3.9, 1.7, 0.4], [4.6, 3.4, 1.4, 0.3], [5.0, 3.4, 1.5, 0.2], [4.4, 2.9, 1.4, 0.2], [4.9, 3.1, 1.5, 0.1], [5.4, 3.7, 1.5, 0.2], [4.8, 3.4, 1.6, 0.2], [4.8, 3.0, 1.4, 0.1], [4.3, 3.0, 1.1, 0.1], [5.8, 4.0, 1.2, 0.2], [5.7, 4.4, 1.5, 0.4], [5.4, 3.9, 1.3, 0.4], [5.1, 3.5, 1.4, 0.3], [5.7, 3.8, 1.7, 0.3], [5.1, 3.8, 1.5, 0.3], [5.4, 3.4, 1.7, 0.2], [5.1, 3.7, 1.5, 0.4], [4.6, 3.6, 1.0, 0.2], [5.1, 3.3, 1.7, 0.5], [4.8, 3.4, 1.9, 0.2], [5.0, 3.0, 1.6, 0.2], [5.0, 3.4, 1.6, 0.4], [5.2, 3.5, 1.5, 0.2], [5.2, 3.4, 1.4, 0.2], [4.7, 3.2, 1.6, 0.2], [4.8, 3.1, 1.6, 0.2], [5.4, 3.4, 1.5, 0.4], [5.2, 4.1, 1.5, 0.1], [5.5, 4.2, 1.4, 0.2], [4.9, 3.1, 1.5, 0.1], [5.0, 3.2, 1.2, 0.2], [5.5, 3.5, 1.3, 0.2], [4.9, 3.1, 1.5, 0.1], [4.4, 3.0, 1.3, 0.2], [5.1, 3.4, 1.5, 0.2], [5.0, 3.5, 1.3, 0.3], [4.5, 2.3, 1.3, 0.3], [4.4, 3.2, 1.3, 0.2], [5.0, 3.5, 1.6, 0.6], [5.1, 3.8, 1.9, 0.4], [4.8, 3.0, 1.4, 0.3], [5.1, 3.8, 1.6, 0.2], [4.6, 3.2, 1.4, 0.2], [5.3, 3.7, 1.5, 0.2], [5.0, 3.3, 1.4, 0.2], [7.0, 3.2, 4.7, 1.4], [6.4, 3.2, 4.5, 1.5], [6.9, 3.1, 4.9, 1.5], [5.5, 2.3, 4.0, 1.3], [6.5, 2.8, 4.6, 1.5], [5.7, 2.8, 4.5, 1.3], [6.3, 3.3, 4.7, 1.6], [4.9, 2.4, 3.3, 1.0], [6.6, 2.9, 4.6, 1.3], [5.2, 2.7, 3.9, 1.4], [5.0, 2.0, 3.5, 1.0], [5.9, 3.0, 4.2, 1.5], [6.0, 2.2, 4.0, 1.0], [6.1, 2.9, 4.7, 1.4], [5.6, 2.9, 3.6, 1.3], [6.7, 3.1, 4.4, 1.4], [5.6, 3.0, 4.5, 1.5], [5.8, 2.7, 4.1, 1.0], [6.2, 2.2, 4.5, 1.5], [5.6, 2.5, 3.9, 1.1], [5.9, 3.2, 4.8, 1.8], [6.1, 2.8, 4.0, 1.3], [6.3, 2.5, 4.9, 1.5], [6.1, 2.8, 4.7, 1.2], [6.4, 2.9, 4.3, 1.3], [6.6, 3.0, 4.4, 1.4], [6.8, 2.8, 4.8, 1.4], [6.7, 3.0, 5.0, 1.7], [6.0, 2.9, 4.5, 1.5], [5.7, 2.6, 3.5, 1.0], [5.5, 2.4, 3.8, 1.1], [5.5, 2.4, 3.7, 1.0], [5.8, 2.7, 3.9, 1.2], [6.0, 2.7, 5.1, 1.6], [5.4, 3.0, 4.5, 1.5], [6.0, 3.4, 4.5, 1.6], [6.7, 3.1, 4.7, 1.5], [6.3, 2.3, 4.4, 1.3], [5.6, 3.0, 4.1, 1.3], [5.5, 2.5, 4.0, 1.3], [5.5, 2.6, 4.4, 1.2], [6.1, 3.0, 4.6, 1.4], [5.8, 2.6, 4.0, 1.2], [5.0, 2.3, 3.3, 1.0], [5.6, 2.7, 4.2, 1.3], [5.7, 3.0, 4.2, 1.2], [5.7, 2.9, 4.2, 1.3], [6.2, 2.9, 4.3, 1.3], [5.1, 2.5, 3.0, 1.1], [5.7, 2.8, 4.1, 1.3], [6.3, 3.3, 6.0, 2.5], [5.8, 2.7, 5.1, 1.9], [7.1, 3.0, 5.9, 2.1], [6.3, 2.9, 5.6, 1.8], [6.5, 3.0, 5.8, 2.2], [7.6, 3.0, 6.6, 2.1], [4.9, 2.5, 4.5, 1.7], [7.3, 2.9, 6.3, 1.8], [6.7, 2.5, 5.8, 1.8], [7.2, 3.6, 6.1, 2.5], [6.5, 3.2, 5.1, 2.0], [6.4, 2.7, 5.3, 1.9], [6.8, 3.0, 5.5, 2.1], [5.7, 2.5, 5.0, 2.0], [5.8, 2.8, 5.1, 2.4], [6.4, 3.2, 5.3, 2.3], [6.5, 3.0, 5.5, 1.8], [7.7, 3.8, 6.7, 2.2], [7.7, 2.6, 6.9, 2.3], [6.0, 2.2, 5.0, 1.5], [6.9, 3.2, 5.7, 2.3], [5.6, 2.8, 4.9, 2.0], [7.7, 2.8, 6.7, 2.0], [6.3, 2.7, 4.9, 1.8], [6.7, 3.3, 5.7, 2.1], [7.2, 3.2, 6.0, 1.8], [6.2, 2.8, 4.8, 1.8], [6.1, 3.0, 4.9, 1.8], [6.4, 2.8, 5.6, 2.1], [7.2, 3.0, 5.8, 1.6], [7.4, 2.8, 6.1, 1.9], [7.9, 3.8, 6.4, 2.0], [6.4, 2.8, 5.6, 2.2], [6.3, 2.8, 5.1, 1.5], [6.1, 2.6, 5.6, 1.4], [7.7, 3.0, 6.1, 2.3], [6.3, 3.4, 5.6, 2.4], [6.4, 3.1, 5.5, 1.8], [6.0, 3.0, 4.8, 1.8], [6.9, 3.1, 5.4, 2.1], [6.7, 3.1, 5.6, 2.4], [6.9, 3.1, 5.1, 2.3], [5.8, 2.7, 5.1, 1.9], [6.8, 3.2, 5.9, 2.3], [6.7, 3.3, 5.7, 2.5], [6.7, 3.0, 5.2, 2.3], [6.3, 2.5, 5.0, 1.9], [6.5, 3.0, 5.2, 2.0], [6.2, 3.4, 5.4, 2.3], [5.9, 3.0, 5.1, 1.8]]\n"
     ]
    }
   ],
   "source": [
    "print(data.values.tolist())"
   ]
  },
  {
   "cell_type": "code",
<<<<<<< HEAD
   "execution_count": 196,
=======
   "execution_count": 181,
>>>>>>> main
   "metadata": {},
   "outputs": [
    {
     "name": "stdout",
     "output_type": "stream",
     "text": [
<<<<<<< HEAD
      "[106, 14, 14]\n"
     ]
    },
    {
     "data": {
      "image/png": "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\n",
      "text/plain": [
       "<Figure size 640x480 with 1 Axes>"
      ]
     },
     "metadata": {},
     "output_type": "display_data"
=======
      "[5.8  3.   4.35 1.3 ]\n"
     ]
    },
    {
     "ename": "AssertionError",
     "evalue": "",
     "output_type": "error",
     "traceback": [
      "\u001b[1;31m---------------------------------------------------------------------------\u001b[0m",
      "\u001b[1;31mAssertionError\u001b[0m                            Traceback (most recent call last)",
      "\u001b[1;32m~\\AppData\\Local\\Temp\\ipykernel_13684\\3621617531.py\u001b[0m in \u001b[0;36m<cell line: 4>\u001b[1;34m()\u001b[0m\n\u001b[0;32m      2\u001b[0m \u001b[1;31m# This code should run and (always) show a correct result, once the classes have been implemented.\u001b[0m\u001b[1;33m\u001b[0m\u001b[1;33m\u001b[0m\u001b[0m\n\u001b[0;32m      3\u001b[0m \u001b[0malg\u001b[0m \u001b[1;33m=\u001b[0m \u001b[0mVarMinClusterer\u001b[0m\u001b[1;33m(\u001b[0m\u001b[1;33m)\u001b[0m\u001b[1;33m\u001b[0m\u001b[1;33m\u001b[0m\u001b[0m\n\u001b[1;32m----> 4\u001b[1;33m \u001b[0mclusters\u001b[0m \u001b[1;33m=\u001b[0m \u001b[0malg\u001b[0m\u001b[1;33m.\u001b[0m\u001b[0mcluster\u001b[0m\u001b[1;33m(\u001b[0m\u001b[0mdata\u001b[0m\u001b[1;33m.\u001b[0m\u001b[0mvalues\u001b[0m\u001b[1;33m.\u001b[0m\u001b[0mtolist\u001b[0m\u001b[1;33m(\u001b[0m\u001b[1;33m)\u001b[0m\u001b[1;33m,\u001b[0m \u001b[0mk\u001b[0m\u001b[1;33m=\u001b[0m\u001b[1;36m3\u001b[0m\u001b[1;33m,\u001b[0m \u001b[0minit\u001b[0m\u001b[1;33m=\u001b[0m\u001b[1;32mTrue\u001b[0m\u001b[1;33m)\u001b[0m\u001b[1;33m\u001b[0m\u001b[1;33m\u001b[0m\u001b[0m\n\u001b[0m\u001b[0;32m      5\u001b[0m \u001b[0mplot_clustering\u001b[0m\u001b[1;33m(\u001b[0m\u001b[0mclusters\u001b[0m\u001b[1;33m)\u001b[0m\u001b[1;33m\u001b[0m\u001b[1;33m\u001b[0m\u001b[0m\n",
      "\u001b[1;32m~\\AppData\\Local\\Temp\\ipykernel_13684\\3109090811.py\u001b[0m in \u001b[0;36mcluster\u001b[1;34m(self, X, k, max_iterations, min_compactness_diff, init)\u001b[0m\n\u001b[0;32m     96\u001b[0m                 \u001b[0mdistanceCentroidPunct\u001b[0m \u001b[1;33m=\u001b[0m \u001b[1;33m[\u001b[0m\u001b[1;33m]\u001b[0m\u001b[1;33m\u001b[0m\u001b[1;33m\u001b[0m\u001b[0m\n\u001b[0;32m     97\u001b[0m                 \u001b[1;32mfor\u001b[0m \u001b[0mi\u001b[0m \u001b[1;32min\u001b[0m \u001b[0mrange\u001b[0m\u001b[1;33m(\u001b[0m\u001b[0mlen\u001b[0m\u001b[1;33m(\u001b[0m\u001b[0mXNew\u001b[0m\u001b[1;33m)\u001b[0m\u001b[1;33m)\u001b[0m\u001b[1;33m:\u001b[0m\u001b[1;33m\u001b[0m\u001b[1;33m\u001b[0m\u001b[0m\n\u001b[1;32m---> 98\u001b[1;33m                     \u001b[0mdistanceCentroidPunctElementQuadrat\u001b[0m \u001b[1;33m=\u001b[0m \u001b[0mmanhattan_dist\u001b[0m\u001b[1;33m(\u001b[0m\u001b[0mself\u001b[0m\u001b[1;33m.\u001b[0m\u001b[0mclusters\u001b[0m\u001b[1;33m[\u001b[0m\u001b[0mk\u001b[0m\u001b[1;33m-\u001b[0m\u001b[1;36m1\u001b[0m\u001b[1;33m]\u001b[0m\u001b[1;33m.\u001b[0m\u001b[0mcentroid\u001b[0m\u001b[1;33m,\u001b[0m\u001b[0mXNew\u001b[0m\u001b[1;33m[\u001b[0m\u001b[0mi\u001b[0m\u001b[1;33m]\u001b[0m\u001b[1;33m)\u001b[0m \u001b[1;33m**\u001b[0m\u001b[1;36m2\u001b[0m\u001b[1;33m\u001b[0m\u001b[1;33m\u001b[0m\u001b[0m\n\u001b[0m\u001b[0;32m     99\u001b[0m                     \u001b[0mdistanceCentroidPunct\u001b[0m\u001b[1;33m.\u001b[0m\u001b[0mappend\u001b[0m\u001b[1;33m(\u001b[0m\u001b[0mdistanceCentroidPunctElementQuadrat\u001b[0m\u001b[1;33m)\u001b[0m\u001b[1;33m\u001b[0m\u001b[1;33m\u001b[0m\u001b[0m\n\u001b[0;32m    100\u001b[0m     \u001b[1;31m#Es wird ein weiterer Zentrumspunkt mit einer gewichteten Wahrscheinlickeitsverteilung gewählt,\u001b[0m\u001b[1;33m\u001b[0m\u001b[1;33m\u001b[0m\u001b[0m\n",
      "\u001b[1;32m~\\AppData\\Local\\Temp\\ipykernel_13684\\3109090811.py\u001b[0m in \u001b[0;36mmanhattan_dist\u001b[1;34m(x, y)\u001b[0m\n\u001b[0;32m      5\u001b[0m     \"\"\" Returns the manhattan distance between vectors x and y.\n\u001b[0;32m      6\u001b[0m     A vector is represented as a list of numeric values. \"\"\"\n\u001b[1;32m----> 7\u001b[1;33m     \u001b[1;32massert\u001b[0m\u001b[1;33m(\u001b[0m\u001b[0mlen\u001b[0m\u001b[1;33m(\u001b[0m\u001b[0mx\u001b[0m\u001b[1;33m)\u001b[0m \u001b[1;33m==\u001b[0m \u001b[0mlen\u001b[0m\u001b[1;33m(\u001b[0m\u001b[0my\u001b[0m\u001b[1;33m)\u001b[0m\u001b[1;33m)\u001b[0m\u001b[1;33m\u001b[0m\u001b[1;33m\u001b[0m\u001b[0m\n\u001b[0m\u001b[0;32m      8\u001b[0m \u001b[1;33m\u001b[0m\u001b[0m\n\u001b[0;32m      9\u001b[0m     \u001b[1;31m# Ansatz: zip gibt eine List von 2 Elemente\u001b[0m\u001b[1;33m\u001b[0m\u001b[1;33m\u001b[0m\u001b[0m\n",
      "\u001b[1;31mAssertionError\u001b[0m: "
     ]
>>>>>>> main
    }
   ],
   "source": [
    "# Do a clustering with k=3 and plot the result with the optimized initialization routine.\n",
    "# This code should run and (always) show a correct result, once the classes have been implemented.\n",
    "alg = VarMinClusterer()\n",
    "clusters = alg.cluster(data.values.tolist(), k=3, init=True)\n",
    "plot_clustering(clusters)"
   ]
  },
  {
   "cell_type": "code",
   "execution_count": 197,
   "metadata": {},
   "outputs": [
    {
     "data": {
      "image/png": "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\n",
      "text/plain": [
       "<Figure size 640x480 with 1 Axes>"
      ]
     },
     "metadata": {},
     "output_type": "display_data"
    }
   ],
   "source": [
    "# Do a clustering with k=3 and plot the result.\n",
    "# This code should run and (always) show a correct result, once the classes have been implemented.\n",
    "alg = VarMinClusterer()\n",
    "clusters = alg.cluster(data.values.tolist(), k=3, init=False)\n",
    "plot_clustering(clusters)"
   ]
  },
  {
   "cell_type": "code",
   "execution_count": null,
   "metadata": {},
   "outputs": [],
   "source": []
  },
  {
   "cell_type": "code",
   "execution_count": null,
   "metadata": {},
   "outputs": [],
   "source": []
  }
 ],
 "metadata": {
  "kernelspec": {
   "display_name": "Python 3 (ipykernel)",
   "language": "python",
   "name": "python3"
  },
  "language_info": {
   "codemirror_mode": {
    "name": "ipython",
    "version": 3
   },
   "file_extension": ".py",
   "mimetype": "text/x-python",
   "name": "python",
   "nbconvert_exporter": "python",
   "pygments_lexer": "ipython3",
   "version": "3.9.15"
  },
  "toc": {
   "base_numbering": 1,
   "nav_menu": {},
   "number_sections": true,
   "sideBar": true,
   "skip_h1_title": false,
   "title_cell": "Table of Contents",
   "title_sidebar": "Contents",
   "toc_cell": false,
   "toc_position": {},
   "toc_section_display": true,
   "toc_window_display": false
  },
  "vscode": {
   "interpreter": {
    "hash": "7e1998ff7f8aa20ada591c520b972326324e5ea05489af9e422744c7c09f6dad"
   }
  }
 },
 "nbformat": 4,
 "nbformat_minor": 4
}
