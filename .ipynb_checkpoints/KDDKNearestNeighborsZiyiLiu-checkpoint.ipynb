{
 "cells": [
  {
   "cell_type": "code",
   "execution_count": 16,
   "metadata": {},
   "outputs": [
    {
     "data": {
      "text/html": [
       "<style>.container { width:85% !important; }</style>"
      ],
      "text/plain": [
       "<IPython.core.display.HTML object>"
      ]
     },
     "metadata": {},
     "output_type": "display_data"
    }
   ],
   "source": [
    "from IPython.display import display, HTML\n",
    "display(HTML(\"<style>.container { width:85% !important; }</style>\"))"
   ]
  },
  {
   "cell_type": "markdown",
   "metadata": {},
   "source": [
    "# Klassifikation mit *k*-Nearest-Neighbors\n",
    "Ziel dieser Übung ist das eigenständige Implementieren des Klassifikations-Algorithmus *k*-Nearest-Neighbors innerhalb des Jupyter-Notebooks. Implementieren sie folgende Variante des *k*-Nearest-Neighbors:\n",
    "- Alle Attribute sind vor der Benutzung auf den Wertebereich $[0;1]$ zu normieren. Beachten Sie dabei, dass für das \"Training\" des Klassifikators keine Informationen aus den Testdaten verwendet werden dürfen.\n",
    "- Als Distanzfunktion nutzen Sie bitte die euklidische Distanz.\n",
    "- Für das Abstimmen der *k* nächsten Nachbarn soll es vier Varianten geben, die mittels eines Parameters an die Klasse übergeben werden können:\n",
    "    1. Eine einfache Mehrheitsabstimmung unter den Nachbarn\n",
    "    2. Jeder Nachbar wird mit dem inversen Quadrat der Distanz gewichtet.\n",
    "    3. Die Stimmen einer Klasse werden mit dem Inversen ihrer Durchschnittsdistanz gewichtet.\n",
    "    4. Eine Mehrheitsabstimmung gewichtet nach der Verteilung der Klassen.\n",
    "   \n",
    "Sie dürfen die Pakete **collections**, **math** und **numpy** für Ihre Implementierung nutzen. Für die Ausführung der Tests benötigen Sie außerdem **pandas**.\n",
    "\n",
    "# Aufgaben für 6ECTS\n",
    "Der *k*-nearest Neighbor Algorithmus verwendet für die Klassifikation verschiedene Parameter: Es muss ein fester Wert für **k** und eine der Entscheidungsstrategien gewählt werden. Doch wie wählt man die Parameter sinnvoll? Eine Möglichkeit liefert die Kreuzvalidierung, welche Sie implementieren sollen:\n",
    "Die Funktion *train* hat einen Parameter **ks**. Falls dieser nicht *None* ist, soll dieser Parameter genutzt werden, um eine Liste von Möglichen *k* Werten zu übergeben. Sie sollen dann wie folgt vorgehen, um aus diser Liste von *k* Werten das bestmögliche *k* und die bestmögliche der 4 Stragtegien zu wählen:\n",
    "- Teilen Sie die Daten zufällig in 5 gleichgroße Teile auf. Nutzen Sie dafür die vorgegbene Funktion *split*.\n",
    "- Gehen Sie für jedes Kombination für *k* und jeder Stratege *s* wie folgt vor um die besten Werte zu finden:\n",
    "- Für jede der 5 Datensatzteile \"trainieren\" sie auf den üblichen 4 Teilen und klassifizieren die Daten des nicht zum Training verwerndeten Teil. Zählen Sie die richtigen Klassifikationen.\n",
    "- Summieren Sie auf, sodass sie die richtigen Entscheidungen über alle 5 Teile erhalten.\n",
    "- Nun haben sie für jedes Paar (*k*,*s*) eine Anzahl an richtigen Entscheidungen über die 5 Teile.\n",
    "- Wählen Sie nun die beste Kombination aus und \"trainieren\" sie auf den ganzen Datensatz. Speichern Sie außerdem das \"beste\" Paar (*k*,*s*).\n",
    "- Wird nun die Funktion *predict* mit *best_combination=True* aufgerufen, so sollen der ermittelte Wert für *k* und die ermittelte Strategie statt die übergebenen Werte genutzt werden.\n",
    "\n",
    "\n",
    "Damit die Aufgabe als sinnvoll bearbeitet gilt, sind folgende Anforderungen zu erfüllen:\n",
    "- Bei einem Durchlauf durch den Iris-Datensatz sollen keine Ausführungsfehler bestehen und (sehr) gute Werte für die Accuracy geliefert werden.\n",
    "- Abgabe der Übung bis 06.02.2023 23:59 Uhr im Moodle-Kurs. "
   ]
  },
  {
   "cell_type": "code",
   "execution_count": 17,
   "metadata": {},
   "outputs": [],
   "source": [
    "import math\n",
    "from collections import Counter, defaultdict\n",
    "import numpy as np\n",
    "import random # Just needed for 6ECTS\n",
    "\n",
    "\n",
    "def euclidean_dist(x, y):\n",
    "    # TODO\n",
    "    #prüfen ob die beiden Vektoren x und y die gleiche Dimension \n",
    "    assert len(x) == len(y)\n",
    "    #die Summe der quadrierten Differenzen berechnet \n",
    "    squared_dist = sum((xi - yi) ** 2 for xi, yi in zip(x, y))\n",
    "    return math.sqrt(squared_dist)\n",
    "\n",
    "def split(X, Y, n=5):\n",
    "    \"Split the training points and labels into 5 equal sized parts. Just needed for 6 ECTS.\"\n",
    "    m = list(range(len(X)))\n",
    "    X = np.array(X)\n",
    "    Y = np.array(Y)\n",
    "    indices = [np.array(m[i::n]) for i in range(n)]\n",
    "    X = [X[i].tolist() for i in indices]\n",
    "    Y = [Y[i].tolist() for i in indices]\n",
    "    return X, Y\n",
    "\n",
    "class KNN():\n",
    "    def __init__(self, dist_fun=euclidean_dist):\n",
    "        self.dist_fun = dist_fun\n",
    "        self.strategies = ['majority', 'inverse_squared_distance', 'inverse_avg_distance', 'distribution']\n",
    "    \n",
    "    def train(self, X, Y, ks=None):\n",
    "        \"\"\" Train this classifier. Takes a list of samples X and a list of class-labels Y.\n",
    "        Each sample is a list of numeric values. Each label is a string.\n",
    "        The parameter ks ist just needed for 6ECTS.\"\"\"\n",
    "        #x die numerische Daten,y labels/Bezeichnung, was macht gibt zurück keine Ahnung\n",
    "        assert(len(X) == len(Y))\n",
    "        \n",
    "        # TODO\n",
    "        #auf den Wertebereich [0;1] zu normieren\n",
    "       # create an array\n",
    "        data = np.array(X)\n",
    "        normalizedData = (data-np.min(data))/(np.max(data)-np.min(data))\n",
    "        print(normalizedData)\n",
    "\n",
    "        neighbors=[]\n",
    "        #Eine einfache Mehrheitsabstimmung unter den Nachbarn\n",
    "        \n",
    "        # Jeder Nachbar wird mit dem inversen Quadrat der Distanz gewichtet.\n",
    "        \n",
    "        # Die Stimmen einer Klasse werden mit dem Inversen ihrer Durchschnittsdistanz gewichtet.\n",
    "        \n",
    "        # Eine Mehrheitsabstimmung gewichtet nach der Verteilung der Klassen.\n",
    "        return neighbors\n",
    "        \n",
    "        \n",
    "    \n",
    "    def predict(self, X, k=3, strategy='majority', best_combination=False):\n",
    "        \"\"\" Takes a list of samples X. Returns a list of predicted labels for the samples.\n",
    "        The parameter best_combination ist just needed for 6ECTS.\"\"\"\n",
    "        return [self.predict_sample(x, k, strategy) for x in X]\n",
    "    \n",
    "    def predict_sample(self, x, k=3, strategy='majority'):\n",
    "        \"\"\" Predicts the label for a single sample x. \"\"\"\n",
    "        \n",
    "        # TODO\n",
    "        return prediction"
   ]
  },
  {
   "cell_type": "markdown",
   "metadata": {},
   "source": [
    "# Evaluierung des Klassifikators\n",
    "Mit diesem Code können Sie Ihre Implementierung anhand des mitgelieferten IRIS-Datensatzes testen. Probieren Sie auch verschiedene (sinnvolle) Werte für den Parameter *k*. Bitte ansonsten in diesem Teil nichts mehr ändern."
   ]
  },
  {
   "cell_type": "code",
   "execution_count": 18,
   "metadata": {},
   "outputs": [],
   "source": [
    "def accuracy(predictions, targets):\n",
    "    \"\"\" Calculates the accuracy for the given class predictions and true classes.\"\"\"\n",
    "    assert(len(predictions) == len(targets))\n",
    "    n_correct = len([p for p,t in zip(predictions, targets) if p==t])\n",
    "    return n_correct/len(predictions)"
   ]
  },
  {
   "cell_type": "code",
   "execution_count": 19,
   "metadata": {},
   "outputs": [],
   "source": [
    "def confusion_matrix(predictions, targets):\n",
    "    \"\"\" Returns a tuple (labels, m) where m is the confusion matrix and \n",
    "    labels is the list of matrix rows/columns in same order as in the matrix.\n",
    "    Rows in the confusion matrix indicate the true target label\n",
    "    whereas the columns indicate the predicted label of samples. \"\"\"\n",
    "    assert(len(predictions) == len(targets))\n",
    "    \n",
    "    # Map each label to an index.\n",
    "    unique_vals = list(set(predictions).union(targets))\n",
    "    mapping = {label: index for index, label in enumerate(unique_vals)}\n",
    "    \n",
    "    # Build and fill the confusion matrix.\n",
    "    #??\n",
    "    m = [[0]*len(mapping) for _ in range(len(mapping))]\n",
    "    for p, t in zip(predictions, targets):\n",
    "        row, col = mapping[t], mapping[p]\n",
    "        m[row][col] += 1\n",
    "    return unique_vals, m"
   ]
  },
  {
   "cell_type": "code",
   "execution_count": 20,
   "metadata": {},
   "outputs": [],
   "source": [
    "import pandas as pd\n",
    "\n",
    "# Load the csv and drop duplicate entries.\n",
    "data = pd.read_csv('iris.csv').drop_duplicates()\n",
    "\n",
    "# Draw a random sample without replacement for the test data.\n",
    "test_data = data.sample(n=50)\n"
   ]
  },
  {
   "cell_type": "code",
   "execution_count": 22,
   "metadata": {},
   "outputs": [],
   "source": [
    "# The other samples are used as training data.\n",
    "train_data = data.loc[data.index.drop(test_data.index), :]\n",
    "\n",
    "def df_to_vectors(df):\n",
    "    \"\"\"Takes a pandas data-frame from the iris dataset as input.\n",
    "    Returns a tuple (X, Y) where Y is a list of class labels and X is the list of sample-vectors\n",
    "    with each vector represented as a list of numeric values.\"\"\"\n",
    "    df = df.copy()\n",
    "    classes = df['species']\n",
    "    del df['species']\n",
    "    return df.values.tolist(), classes.values.tolist()\n",
    "\n",
    "# Convert train and test-data to lists of vectors and class labels.\n",
    "X_train, Y_train = df_to_vectors(train_data)\n",
    "\n",
    "# print('X_train:')\n",
    "# print(X_train)\n",
    "# print('Y_train:')\n",
    "# print(Y_train)"
   ]
  },
  {
   "cell_type": "code",
   "execution_count": 23,
   "metadata": {},
   "outputs": [],
   "source": [
    "X_test, Y_test = df_to_vectors(test_data)"
   ]
  },
  {
   "cell_type": "code",
   "execution_count": 24,
   "metadata": {},
   "outputs": [
    {
     "name": "stdout",
     "output_type": "stream",
     "text": [
      "[[0.64102564 0.43589744 0.16666667 0.01282051]\n",
      " [0.57692308 0.38461538 0.17948718 0.01282051]\n",
      " [0.62820513 0.44871795 0.16666667 0.01282051]\n",
      " [0.57692308 0.42307692 0.16666667 0.02564103]\n",
      " [0.62820513 0.42307692 0.17948718 0.01282051]\n",
      " [0.55128205 0.35897436 0.16666667 0.01282051]\n",
      " [0.67948718 0.46153846 0.17948718 0.01282051]\n",
      " [0.6025641  0.42307692 0.19230769 0.01282051]\n",
      " [0.6025641  0.37179487 0.16666667 0.        ]\n",
      " [0.53846154 0.37179487 0.12820513 0.        ]\n",
      " [0.73076923 0.5        0.14102564 0.01282051]\n",
      " [0.71794872 0.55128205 0.17948718 0.03846154]\n",
      " [0.64102564 0.43589744 0.16666667 0.02564103]\n",
      " [0.64102564 0.47435897 0.17948718 0.02564103]\n",
      " [0.64102564 0.46153846 0.17948718 0.03846154]\n",
      " [0.57692308 0.44871795 0.11538462 0.01282051]\n",
      " [0.64102564 0.41025641 0.20512821 0.05128205]\n",
      " [0.6025641  0.42307692 0.23076923 0.01282051]\n",
      " [0.65384615 0.43589744 0.17948718 0.01282051]\n",
      " [0.65384615 0.42307692 0.16666667 0.01282051]\n",
      " [0.6025641  0.38461538 0.19230769 0.01282051]\n",
      " [0.67948718 0.42307692 0.17948718 0.03846154]\n",
      " [0.62820513 0.3974359  0.14102564 0.01282051]\n",
      " [0.69230769 0.43589744 0.15384615 0.01282051]\n",
      " [0.55128205 0.37179487 0.15384615 0.01282051]\n",
      " [0.64102564 0.42307692 0.17948718 0.01282051]\n",
      " [0.56410256 0.28205128 0.15384615 0.02564103]\n",
      " [0.55128205 0.3974359  0.15384615 0.01282051]\n",
      " [0.64102564 0.47435897 0.23076923 0.03846154]\n",
      " [0.6025641  0.37179487 0.16666667 0.02564103]\n",
      " [0.64102564 0.47435897 0.19230769 0.01282051]\n",
      " [0.57692308 0.3974359  0.16666667 0.01282051]\n",
      " [0.66666667 0.46153846 0.17948718 0.01282051]\n",
      " [0.88461538 0.3974359  0.58974359 0.16666667]\n",
      " [0.80769231 0.3974359  0.56410256 0.17948718]\n",
      " [0.69230769 0.28205128 0.5        0.15384615]\n",
      " [0.82051282 0.34615385 0.57692308 0.17948718]\n",
      " [0.71794872 0.34615385 0.56410256 0.15384615]\n",
      " [0.79487179 0.41025641 0.58974359 0.19230769]\n",
      " [0.61538462 0.29487179 0.41025641 0.11538462]\n",
      " [0.83333333 0.35897436 0.57692308 0.15384615]\n",
      " [0.65384615 0.33333333 0.48717949 0.16666667]\n",
      " [0.62820513 0.24358974 0.43589744 0.11538462]\n",
      " [0.74358974 0.37179487 0.52564103 0.17948718]\n",
      " [0.75641026 0.26923077 0.5        0.11538462]\n",
      " [0.76923077 0.35897436 0.58974359 0.16666667]\n",
      " [0.84615385 0.38461538 0.55128205 0.16666667]\n",
      " [0.70512821 0.37179487 0.56410256 0.17948718]\n",
      " [0.73076923 0.33333333 0.51282051 0.11538462]\n",
      " [0.74358974 0.3974359  0.6025641  0.21794872]\n",
      " [0.76923077 0.34615385 0.5        0.15384615]\n",
      " [0.79487179 0.30769231 0.61538462 0.17948718]\n",
      " [0.80769231 0.35897436 0.53846154 0.15384615]\n",
      " [0.83333333 0.37179487 0.55128205 0.16666667]\n",
      " [0.85897436 0.34615385 0.6025641  0.16666667]\n",
      " [0.84615385 0.37179487 0.62820513 0.20512821]\n",
      " [0.71794872 0.32051282 0.43589744 0.11538462]\n",
      " [0.69230769 0.29487179 0.47435897 0.12820513]\n",
      " [0.69230769 0.29487179 0.46153846 0.11538462]\n",
      " [0.67948718 0.37179487 0.56410256 0.17948718]\n",
      " [0.70512821 0.37179487 0.51282051 0.15384615]\n",
      " [0.76923077 0.37179487 0.57692308 0.16666667]\n",
      " [0.73076923 0.32051282 0.5        0.14102564]\n",
      " [0.62820513 0.28205128 0.41025641 0.11538462]\n",
      " [0.71794872 0.37179487 0.52564103 0.14102564]\n",
      " [0.71794872 0.35897436 0.52564103 0.15384615]\n",
      " [0.78205128 0.35897436 0.53846154 0.15384615]\n",
      " [0.73076923 0.33333333 0.64102564 0.23076923]\n",
      " [0.79487179 0.35897436 0.70512821 0.21794872]\n",
      " [0.82051282 0.37179487 0.73076923 0.26923077]\n",
      " [0.96153846 0.37179487 0.83333333 0.25641026]\n",
      " [0.91025641 0.44871795 0.76923077 0.30769231]\n",
      " [0.82051282 0.3974359  0.64102564 0.24358974]\n",
      " [0.80769231 0.33333333 0.66666667 0.23076923]\n",
      " [0.85897436 0.37179487 0.69230769 0.25641026]\n",
      " [0.71794872 0.30769231 0.62820513 0.24358974]\n",
      " [0.73076923 0.34615385 0.64102564 0.29487179]\n",
      " [0.80769231 0.3974359  0.66666667 0.28205128]\n",
      " [0.82051282 0.37179487 0.69230769 0.21794872]\n",
      " [0.70512821 0.34615385 0.61538462 0.24358974]\n",
      " [0.97435897 0.34615385 0.84615385 0.24358974]\n",
      " [0.79487179 0.33333333 0.61538462 0.21794872]\n",
      " [0.78205128 0.34615385 0.6025641  0.21794872]\n",
      " [0.80769231 0.34615385 0.70512821 0.25641026]\n",
      " [0.93589744 0.34615385 0.76923077 0.23076923]\n",
      " [1.         0.47435897 0.80769231 0.24358974]\n",
      " [0.76923077 0.32051282 0.70512821 0.16666667]\n",
      " [0.97435897 0.37179487 0.76923077 0.28205128]\n",
      " [0.80769231 0.38461538 0.69230769 0.21794872]\n",
      " [0.75641026 0.37179487 0.6025641  0.21794872]\n",
      " [0.87179487 0.38461538 0.67948718 0.25641026]\n",
      " [0.84615385 0.38461538 0.70512821 0.29487179]\n",
      " [0.85897436 0.3974359  0.74358974 0.28205128]\n",
      " [0.84615385 0.41025641 0.71794872 0.30769231]\n",
      " [0.84615385 0.37179487 0.65384615 0.28205128]\n",
      " [0.82051282 0.37179487 0.65384615 0.24358974]\n",
      " [0.74358974 0.37179487 0.64102564 0.21794872]]\n"
     ]
    },
    {
     "data": {
      "text/plain": [
       "[]"
      ]
     },
     "execution_count": 24,
     "metadata": {},
     "output_type": "execute_result"
    }
   ],
   "source": [
    "clf = KNN()\n",
    "clf.train(X_train, Y_train)"
   ]
  },
  {
   "cell_type": "code",
   "execution_count": 15,
   "metadata": {},
   "outputs": [
    {
     "name": "stdout",
     "output_type": "stream",
     "text": [
      "Accuracy of strategy majority: 0.0\n",
      "Confusion matrix:\n",
      "[0, 0, 17, 0]\n",
      "[0, 0, 16, 0]\n",
      "[0, 0, 0, 0]\n",
      "[0, 0, 17, 0]\n",
      "----------\n",
      "Accuracy of strategy inverse_squared_distance: 0.0\n",
      "Confusion matrix:\n",
      "[0, 0, 17, 0]\n",
      "[0, 0, 16, 0]\n",
      "[0, 0, 0, 0]\n",
      "[0, 0, 17, 0]\n",
      "----------\n",
      "Accuracy of strategy inverse_avg_distance: 0.0\n",
      "Confusion matrix:\n",
      "[0, 0, 17, 0]\n",
      "[0, 0, 16, 0]\n",
      "[0, 0, 0, 0]\n",
      "[0, 0, 17, 0]\n",
      "----------\n",
      "Accuracy of strategy distribution: 0.0\n",
      "Confusion matrix:\n",
      "[0, 0, 17, 0]\n",
      "[0, 0, 16, 0]\n",
      "[0, 0, 0, 0]\n",
      "[0, 0, 17, 0]\n",
      "----------\n"
     ]
    }
   ],
   "source": [
    "\n",
    "for strategy in clf.strategies:\n",
    "    predictions = clf.predict(X_test, strategy=strategy, k=3)\n",
    "    print('Accuracy of strategy {}: {}'.format(strategy, accuracy(predictions, Y_test)))\n",
    "    labels, matrix = confusion_matrix(predictions, Y_test)\n",
    "    print('Confusion matrix:')\n",
    "    print('\\n'.join([str(row) for row in matrix]))\n",
    "    print('----------')"
   ]
  },
  {
   "cell_type": "markdown",
   "metadata": {},
   "source": [
    "# Delete the following Lines if you just need 3 ECTS!"
   ]
  },
  {
   "cell_type": "code",
   "execution_count": null,
   "metadata": {},
   "outputs": [],
   "source": [
    "clf = KNN()\n",
    "clf.train(X_train, Y_train, ks=[1, 3, 5, 7])\n",
    "print(\"Best combination:\")\n",
    "print(\"k:\", clf.k)\n",
    "print(\"strategy:\", clf.strategy)\n",
    "print(\"-----------\")\n",
    "predictions = clf.predict(X_test, best_combination=True)\n",
    "labels, matrix = confusion_matrix(predictions, Y_test)\n",
    "print('Accuracy {}'.format(accuracy(predictions, Y_test)))\n",
    "print('Confusion matrix:')\n",
    "print('\\n'.join([str(row) for row in matrix]))"
   ]
  }
 ],
 "metadata": {
  "kernelspec": {
   "display_name": "Python 3 (ipykernel)",
   "language": "python",
   "name": "python3"
  },
  "language_info": {
   "codemirror_mode": {
    "name": "ipython",
    "version": 3
   },
   "file_extension": ".py",
   "mimetype": "text/x-python",
   "name": "python",
   "nbconvert_exporter": "python",
   "pygments_lexer": "ipython3",
   "version": "3.9.15"
  },
  "toc": {
   "base_numbering": 1,
   "nav_menu": {},
   "number_sections": true,
   "sideBar": true,
   "skip_h1_title": false,
   "title_cell": "Table of Contents",
   "title_sidebar": "Contents",
   "toc_cell": false,
   "toc_position": {},
   "toc_section_display": true,
   "toc_window_display": false
  }
 },
 "nbformat": 4,
 "nbformat_minor": 2
}
