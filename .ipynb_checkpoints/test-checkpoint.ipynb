{
 "cells": [
  {
   "cell_type": "code",
   "execution_count": 1,
   "id": "146cee55",
   "metadata": {},
   "outputs": [
    {
     "data": {
      "text/html": [
       "<style>.container { width:85% !important; }</style>"
      ],
      "text/plain": [
       "<IPython.core.display.HTML object>"
      ]
     },
     "metadata": {},
     "output_type": "display_data"
    }
   ],
   "source": [
    "from IPython.display import display, HTML\n",
    "display(HTML(\"<style>.container { width:85% !important; }</style>\"))"
   ]
  },
  {
   "cell_type": "code",
   "execution_count": 21,
   "id": "0d94b97f",
   "metadata": {},
   "outputs": [
    {
     "data": {
      "text/plain": [
       "Index(['handicapped-infants', 'water-project-cost-sharing',\n",
       "       'adoption-of-the-budget-resolution', 'physician-fee-freeze',\n",
       "       'el-salvador-aid', 'religious-groups-in-schools',\n",
       "       'anti-satellite-test-ban', 'aid-to-nicaraguan-contras', 'mx-missile',\n",
       "       'immigration', 'synfuels-corporation-cutback', 'education-spending',\n",
       "       'superfund-right-to-sue', 'crime', 'duty-free-exports',\n",
       "       'export-administration-act-south-africa'],\n",
       "      dtype='object')"
      ]
     },
     "execution_count": 21,
     "metadata": {},
     "output_type": "execute_result"
    }
   ],
   "source": [
    "import pandas as pd\n",
    "import numpy as np\n",
    "from numpy import log2\n",
    "df = pd.read_csv('house-votes-84-with-header.csv')\n",
    "df\n",
    "df.keys()[1:]"
   ]
  },
  {
   "cell_type": "code",
   "execution_count": 33,
   "id": "5f54442e",
   "metadata": {},
   "outputs": [
    {
     "data": {
      "text/plain": [
       "435"
      ]
     },
     "execution_count": 33,
     "metadata": {},
     "output_type": "execute_result"
    }
   ],
   "source": [
    "len(df[Class])"
   ]
  },
  {
   "cell_type": "code",
   "execution_count": 23,
   "id": "d247800a",
   "metadata": {},
   "outputs": [
    {
     "data": {
      "text/plain": [
       "array(['republican', 'democrat'], dtype=object)"
      ]
     },
     "execution_count": 23,
     "metadata": {},
     "output_type": "execute_result"
    }
   ],
   "source": [
    "target_variables = df[Class].unique()\n",
    "target_variables"
   ]
  },
  {
   "cell_type": "code",
   "execution_count": 26,
   "id": "71c474b0",
   "metadata": {},
   "outputs": [
    {
     "data": {
      "text/plain": [
       "['?', 'n', 'y']"
      ]
     },
     "execution_count": 26,
     "metadata": {},
     "output_type": "execute_result"
    }
   ],
   "source": [
    "variables = df['handicapped-infants'].unique()\n",
    "sorted(variables)"
   ]
  },
  {
   "cell_type": "code",
   "execution_count": 42,
   "id": "03c2ec74",
   "metadata": {},
   "outputs": [],
   "source": [
    "def find_entropy_attribute(df, attribute):\n",
    "    # e.g attribute ist outlook\n",
    "    Class = df.keys()[0]  # To make the code generic, changing target choice class name\n",
    "    parteien = df[Class].unique()  # 'republican' and 'democrat'\n",
    "    choices = df[attribute].unique()  # ['n', '?', 'y']\n",
    "\n",
    "    #für alle variale die Nummer zählen:\n",
    "    dictValues = {}\n",
    "    for choice in choices:  # ['n', '?', 'y']\n",
    "        for partei in parteien:\n",
    "            num = len(df[attribute][df[attribute] == choice][df[Class] == partei])\n",
    "            dictValues[choice+partei] = num\n",
    "            \n",
    "    # ratio für yes und no zählen\n",
    "    for choice in choices:\n",
    "        if choice == '?':\n",
    "                continue\n",
    "        rationZaeler = 0\n",
    "        for partei in parteien:\n",
    "            rationZaeler = rationZaeler + dictValues[choice+partei]\n",
    "        dictValues[choice + 'ration'] = rationZaeler /len(df[Class])\n",
    "#     print(dictValues)\n",
    "\n",
    "    # alle vatiable richtig mit unknown  \n",
    "    dictValuesWithUnknow = {}\n",
    "    for choice in choices:\n",
    "        if choice == '?':\n",
    "                continue\n",
    "        for partei in parteien:\n",
    "            num = dictValues[choice+partei] + dictValues['?'+partei] * dictValues[choice+'ration']\n",
    "            dictValuesWithUnknow[choice+partei] = num\n",
    "#     print(dictValuesWithUnknow)\n",
    "    \n",
    "    entropy = 0\n",
    "    for choice in choices:\n",
    "        if choice == '?':\n",
    "            continue\n",
    "        entropy = 0\n",
    "        for partei in parteien:  # 'republican' and 'democrat'\n",
    "            # df[attribute]:df[outlook] first colum of dataframe\n",
    "            num = dictValuesWithUnknow[choice+partei]\n",
    "                # df[outlook]:where df[attribute] is equal choice, first sunny, then overcast then rain\n",
    "                # and also df[play] == yes\n",
    "                # only positive sunny\n",
    "            den = len(df[attribute][df[attribute] == choice])\n",
    "            # outlook aunny total sunny\n",
    "            fraction = num / den\n",
    "            \n",
    "            entropy += fraction * log2(fraction)\n",
    "\n",
    "    return entropy"
   ]
  },
  {
   "cell_type": "code",
   "execution_count": 43,
   "id": "8cfed484",
   "metadata": {},
   "outputs": [
    {
     "data": {
      "text/plain": [
       "-0.6308699443897507"
      ]
     },
     "execution_count": 43,
     "metadata": {},
     "output_type": "execute_result"
    }
   ],
   "source": [
    "find_entropy_attribute(df, 'handicapped-infants')"
   ]
  },
  {
   "cell_type": "code",
   "execution_count": 19,
   "id": "7a1a46f3",
   "metadata": {},
   "outputs": [],
   "source": [
    "def find_entropy(df):\n",
    "    # df.keys(): attributs name of df\n",
    "    # -1 play\n",
    "    Class = df.keys()[0]  # To make the code generic, changing target variable class name\n",
    "    entropy = 0\n",
    "    values = df[Class].unique()\n",
    "    \n",
    "    # last colum of data, of unique Vale ohne Wiederholung, this gives all 'Yes' and 'No'\n",
    "    for value in values:\n",
    "        fraction = df[Class].value_counts()[value] / len(df[Class])\n",
    "        # count the value yes and no / Länge von Dataset, relative Häufigkeit\n",
    "        entropy += -fraction * np.log2(fraction)\n",
    "    return entropy"
   ]
  },
  {
   "cell_type": "code",
   "execution_count": 15,
   "id": "8d622389",
   "metadata": {},
   "outputs": [
    {
     "data": {
      "text/plain": [
       "0.9623080486960709"
      ]
     },
     "execution_count": 15,
     "metadata": {},
     "output_type": "execute_result"
    }
   ],
   "source": [
    "find_entropy(df)"
   ]
  },
  {
   "cell_type": "code",
   "execution_count": null,
   "id": "51210d1b",
   "metadata": {},
   "outputs": [],
   "source": [
    "find_winner(df)"
   ]
  },
  {
   "cell_type": "code",
   "execution_count": 12,
   "id": "d398b403",
   "metadata": {},
   "outputs": [],
   "source": [
    "def find_winner( df):\n",
    "    Entropy_att = []\n",
    "    informationGain = []  # information gain\n",
    "    for key in df.keys()[1:]:          # anything but the first one\n",
    "        informationGain.append(self.find_entropy(df) - self.find_entropy_attribute(df, key))\n",
    "        # find entropy of entire Dataframe - the entropy of all the possiable values of paticule attrubute\n",
    "    return df.keys()[:-1][np.argmax(informationGain)]\n",
    "    # alle the keys except the target attribut but with the maximum value og IG\n",
    "\n",
    "  \n",
    "def find_entropy(df):\n",
    "    # df.keys(): attributs name of df\n",
    "    # -1 play\n",
    "    Class = df.keys()[0]  # To make the code generic, changing target variable class name\n",
    "    entropy = 0\n",
    "    values = df[Class].unique()\n",
    "    \n",
    "    # last colum of data, of unique Vale ohne Wiederholung, this gives all 'Yes' and 'No'\n",
    "    for value in values:\n",
    "        fraction = df[Class].value_counts()[value] / len(df[Class])\n",
    "        # count the value yes and no / Länge von Dataset, relative Häufigkeit\n",
    "        entropy += -fraction * np.log2(fraction)\n",
    "    return entropy\n",
    "\n",
    "\n",
    "def find_entropy_attribute( df, attribute):\n",
    "    # e.g attribute ist outlook\n",
    "    Class = df.keys()[0]  # To make the code generic, changing target variable class name\n",
    "    target_variables = df[Class].unique()  # This gives all 'Yes' and 'No'\n",
    "    variables = df[attribute].unique()  # This gives different features in that attribute (like 'Hot','Cold' in Temperature)\n",
    "    entropy2 = 0\n",
    "    for variable in variables:  # Sunny,Overcast, Rain\n",
    "        entropy = 0\n",
    "        for target_variable in target_variables:  #'Yes' and 'No'\n",
    "            # df[attribute]:df[outlook] first colum of dataframe\n",
    "            num = len(df[attribute][df[attribute] == variable][df[Class] == target_variable])\n",
    "                # df[outlook]:where df[attribute] is equal variable, first sunny, then overcast then rain\n",
    "                # and also df[play] == yes\n",
    "                # only positive sunny\n",
    "            den = len(df[attribute][df[attribute] == variable])\n",
    "            # outlook aunny total sunny\n",
    "            fraction = num / (den + eps)\n",
    "            entropy += -fraction * log(fraction + eps)\n",
    "        fraction2 = den / len(df)\n",
    "        entropy2 += -fraction2 * entropy\n",
    "    return abs(entropy2)\n",
    "\n",
    "def get_subtable( data, node, value):\n",
    "    # potion of csv.file and need subtable\n",
    "    # node: attribute, value of the attribute\n",
    "    df_value = df.loc[df[node] == value]\n",
    "    return df_value\n",
    "    \n"
   ]
  }
 ],
 "metadata": {
  "kernelspec": {
   "display_name": "Python 3 (ipykernel)",
   "language": "python",
   "name": "python3"
  },
  "language_info": {
   "codemirror_mode": {
    "name": "ipython",
    "version": 3
   },
   "file_extension": ".py",
   "mimetype": "text/x-python",
   "name": "python",
   "nbconvert_exporter": "python",
   "pygments_lexer": "ipython3",
   "version": "3.9.15"
  },
  "toc": {
   "base_numbering": 1,
   "nav_menu": {},
   "number_sections": true,
   "sideBar": true,
   "skip_h1_title": false,
   "title_cell": "Table of Contents",
   "title_sidebar": "Contents",
   "toc_cell": false,
   "toc_position": {},
   "toc_section_display": true,
   "toc_window_display": false
  }
 },
 "nbformat": 4,
 "nbformat_minor": 5
}
